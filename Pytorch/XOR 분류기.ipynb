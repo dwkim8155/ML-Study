{
 "cells": [
  {
   "cell_type": "code",
   "execution_count": 100,
   "id": "a87595fe",
   "metadata": {},
   "outputs": [],
   "source": [
    "import torch\n",
    "import torch.nn as nn\n",
    "import torch.optim as optim\n",
    "import torch.functional as F\n",
    "import numpy as np"
   ]
  },
  {
   "cell_type": "code",
   "execution_count": 85,
   "id": "d18c3075",
   "metadata": {},
   "outputs": [],
   "source": [
    "x_train = torch.FloatTensor([[0,0],[0,1],[1,0],[1,1]])\n",
    "y_train = torch.FloatTensor([[1],[0],[0],[1]])"
   ]
  },
  {
   "cell_type": "code",
   "execution_count": 91,
   "id": "dcff1854",
   "metadata": {},
   "outputs": [],
   "source": [
    "class XOR(nn.Module):\n",
    "    def __init__(self):\n",
    "        super().__init__()\n",
    "        self.layer = nn.Sequential(\n",
    "            nn.Linear(2,2),\n",
    "            nn.Sigmoid(),\n",
    "            nn.Linear(2,1),\n",
    "            nn.Sigmoid()\n",
    "        )\n",
    "            \n",
    "    def forward(self,x):\n",
    "        return self.layer(x)"
   ]
  },
  {
   "cell_type": "code",
   "execution_count": 92,
   "id": "92cc5451",
   "metadata": {},
   "outputs": [],
   "source": [
    "model = XOR()"
   ]
  },
  {
   "cell_type": "code",
   "execution_count": 93,
   "id": "df6b1b78",
   "metadata": {},
   "outputs": [],
   "source": [
    "optimizer = optim.SGD(model.parameters(), lr= 0.5)"
   ]
  },
  {
   "cell_type": "code",
   "execution_count": 112,
   "id": "4ad60efb",
   "metadata": {
    "scrolled": true
   },
   "outputs": [
    {
     "name": "stdout",
     "output_type": "stream",
     "text": [
      "Epoch:   0/2000 Loss:0.28600 accuracy: 1.0\n",
      "Epoch: 100/2000 Loss:0.16328 accuracy: 1.0\n",
      "Epoch: 200/2000 Loss:0.10306 accuracy: 1.0\n",
      "Epoch: 300/2000 Loss:0.07258 accuracy: 1.0\n",
      "Epoch: 400/2000 Loss:0.05515 accuracy: 1.0\n",
      "Epoch: 500/2000 Loss:0.04413 accuracy: 1.0\n",
      "Epoch: 600/2000 Loss:0.03661 accuracy: 1.0\n",
      "Epoch: 700/2000 Loss:0.03120 accuracy: 1.0\n",
      "Epoch: 800/2000 Loss:0.02712 accuracy: 1.0\n",
      "Epoch: 900/2000 Loss:0.02396 accuracy: 1.0\n",
      "Epoch:1000/2000 Loss:0.02144 accuracy: 1.0\n",
      "Epoch:1100/2000 Loss:0.01938 accuracy: 1.0\n",
      "Epoch:1200/2000 Loss:0.01768 accuracy: 1.0\n",
      "Epoch:1300/2000 Loss:0.01624 accuracy: 1.0\n",
      "Epoch:1400/2000 Loss:0.01501 accuracy: 1.0\n",
      "Epoch:1500/2000 Loss:0.01395 accuracy: 1.0\n",
      "Epoch:1600/2000 Loss:0.01303 accuracy: 1.0\n",
      "Epoch:1700/2000 Loss:0.01222 accuracy: 1.0\n",
      "Epoch:1800/2000 Loss:0.01150 accuracy: 1.0\n",
      "Epoch:1900/2000 Loss:0.01086 accuracy: 1.0\n",
      "Epoch:2000/2000 Loss:0.01029 accuracy: 1.0\n"
     ]
    }
   ],
   "source": [
    "nb_epochs = 2000\n",
    "for epoch in range(nb_epochs+1):\n",
    "    \n",
    "    prediction = model(x_train)\n",
    "    criterion = nn.BCELoss()\n",
    "    loss = criterion(prediction,y_train)\n",
    "    \n",
    "    optimizer.zero_grad()\n",
    "    loss.backward()\n",
    "    optimizer.step()\n",
    "    \n",
    "    if epoch%100 == 0:\n",
    "        print('Epoch:{:4d}/{} Loss:{:.5f} accuracy: {}'.format(epoch,nb_epochs,loss, sum((model(x_train)>0.5) == y_train).item() / len(y_train)))"
   ]
  },
  {
   "cell_type": "code",
   "execution_count": 119,
   "id": "25b5a201",
   "metadata": {},
   "outputs": [
    {
     "data": {
      "text/plain": [
       "tensor([[0.9876],\n",
       "        [0.0093],\n",
       "        [0.0093],\n",
       "        [0.9900]], grad_fn=<SigmoidBackward0>)"
      ]
     },
     "execution_count": 119,
     "metadata": {},
     "output_type": "execute_result"
    }
   ],
   "source": [
    "prediction"
   ]
  },
  {
   "cell_type": "code",
   "execution_count": 120,
   "id": "697ea970",
   "metadata": {},
   "outputs": [
    {
     "data": {
      "text/plain": [
       "tensor([[1.],\n",
       "        [0.],\n",
       "        [0.],\n",
       "        [1.]])"
      ]
     },
     "execution_count": 120,
     "metadata": {},
     "output_type": "execute_result"
    }
   ],
   "source": [
    "y_train"
   ]
  },
  {
   "cell_type": "code",
   "execution_count": null,
   "id": "79b0bc1d",
   "metadata": {},
   "outputs": [],
   "source": []
  }
 ],
 "metadata": {
  "kernelspec": {
   "display_name": "Python 3 (ipykernel)",
   "language": "python",
   "name": "python3"
  },
  "language_info": {
   "codemirror_mode": {
    "name": "ipython",
    "version": 3
   },
   "file_extension": ".py",
   "mimetype": "text/x-python",
   "name": "python",
   "nbconvert_exporter": "python",
   "pygments_lexer": "ipython3",
   "version": "3.9.12"
  }
 },
 "nbformat": 4,
 "nbformat_minor": 5
}
