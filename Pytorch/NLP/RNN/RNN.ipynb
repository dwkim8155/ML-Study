{
  "nbformat": 4,
  "nbformat_minor": 0,
  "metadata": {
    "colab": {
      "provenance": []
    },
    "kernelspec": {
      "name": "python3",
      "display_name": "Python 3"
    },
    "language_info": {
      "name": "python"
    },
    "widgets": {
      "application/vnd.jupyter.widget-state+json": {
        "a7b38b5dd088459ba9fcf52b14dc0317": {
          "model_module": "@jupyter-widgets/controls",
          "model_name": "HBoxModel",
          "model_module_version": "1.5.0",
          "state": {
            "_dom_classes": [],
            "_model_module": "@jupyter-widgets/controls",
            "_model_module_version": "1.5.0",
            "_model_name": "HBoxModel",
            "_view_count": null,
            "_view_module": "@jupyter-widgets/controls",
            "_view_module_version": "1.5.0",
            "_view_name": "HBoxView",
            "box_style": "",
            "children": [
              "IPY_MODEL_996b746864bc4c75b7f4208fa621a96f",
              "IPY_MODEL_706e40390d4c421bb892f7edfacf7e8d",
              "IPY_MODEL_0ac259bcb2cb469f99db2edcf045046c"
            ],
            "layout": "IPY_MODEL_24a4fce9db43479793e8cb6edbaab673"
          }
        },
        "996b746864bc4c75b7f4208fa621a96f": {
          "model_module": "@jupyter-widgets/controls",
          "model_name": "HTMLModel",
          "model_module_version": "1.5.0",
          "state": {
            "_dom_classes": [],
            "_model_module": "@jupyter-widgets/controls",
            "_model_module_version": "1.5.0",
            "_model_name": "HTMLModel",
            "_view_count": null,
            "_view_module": "@jupyter-widgets/controls",
            "_view_module_version": "1.5.0",
            "_view_name": "HTMLView",
            "description": "",
            "description_tooltip": null,
            "layout": "IPY_MODEL_70f803ede779413cb3519588d3e3b676",
            "placeholder": "​",
            "style": "IPY_MODEL_d19543cc7797476485f26f864a07c412",
            "value": " 99%"
          }
        },
        "706e40390d4c421bb892f7edfacf7e8d": {
          "model_module": "@jupyter-widgets/controls",
          "model_name": "FloatProgressModel",
          "model_module_version": "1.5.0",
          "state": {
            "_dom_classes": [],
            "_model_module": "@jupyter-widgets/controls",
            "_model_module_version": "1.5.0",
            "_model_name": "FloatProgressModel",
            "_view_count": null,
            "_view_module": "@jupyter-widgets/controls",
            "_view_module_version": "1.5.0",
            "_view_name": "ProgressView",
            "bar_style": "",
            "description": "",
            "description_tooltip": null,
            "layout": "IPY_MODEL_79c97dd3e28c43cd8bce76ef358e1533",
            "max": 500,
            "min": 0,
            "orientation": "horizontal",
            "style": "IPY_MODEL_1ea7db6ee24c466baac2bf75ca6fd951",
            "value": 500
          }
        },
        "0ac259bcb2cb469f99db2edcf045046c": {
          "model_module": "@jupyter-widgets/controls",
          "model_name": "HTMLModel",
          "model_module_version": "1.5.0",
          "state": {
            "_dom_classes": [],
            "_model_module": "@jupyter-widgets/controls",
            "_model_module_version": "1.5.0",
            "_model_name": "HTMLModel",
            "_view_count": null,
            "_view_module": "@jupyter-widgets/controls",
            "_view_module_version": "1.5.0",
            "_view_name": "HTMLView",
            "description": "",
            "description_tooltip": null,
            "layout": "IPY_MODEL_eff2da1599154fac8b7af0274e18c0cf",
            "placeholder": "​",
            "style": "IPY_MODEL_0fc1c26f93e0484193974260c8d7f26f",
            "value": " 495/500 [00:01&lt;00:00, 249.17it/s]"
          }
        },
        "24a4fce9db43479793e8cb6edbaab673": {
          "model_module": "@jupyter-widgets/base",
          "model_name": "LayoutModel",
          "model_module_version": "1.2.0",
          "state": {
            "_model_module": "@jupyter-widgets/base",
            "_model_module_version": "1.2.0",
            "_model_name": "LayoutModel",
            "_view_count": null,
            "_view_module": "@jupyter-widgets/base",
            "_view_module_version": "1.2.0",
            "_view_name": "LayoutView",
            "align_content": null,
            "align_items": null,
            "align_self": null,
            "border": null,
            "bottom": null,
            "display": null,
            "flex": null,
            "flex_flow": null,
            "grid_area": null,
            "grid_auto_columns": null,
            "grid_auto_flow": null,
            "grid_auto_rows": null,
            "grid_column": null,
            "grid_gap": null,
            "grid_row": null,
            "grid_template_areas": null,
            "grid_template_columns": null,
            "grid_template_rows": null,
            "height": null,
            "justify_content": null,
            "justify_items": null,
            "left": null,
            "margin": null,
            "max_height": null,
            "max_width": null,
            "min_height": null,
            "min_width": null,
            "object_fit": null,
            "object_position": null,
            "order": null,
            "overflow": null,
            "overflow_x": null,
            "overflow_y": null,
            "padding": null,
            "right": null,
            "top": null,
            "visibility": "hidden",
            "width": null
          }
        },
        "70f803ede779413cb3519588d3e3b676": {
          "model_module": "@jupyter-widgets/base",
          "model_name": "LayoutModel",
          "model_module_version": "1.2.0",
          "state": {
            "_model_module": "@jupyter-widgets/base",
            "_model_module_version": "1.2.0",
            "_model_name": "LayoutModel",
            "_view_count": null,
            "_view_module": "@jupyter-widgets/base",
            "_view_module_version": "1.2.0",
            "_view_name": "LayoutView",
            "align_content": null,
            "align_items": null,
            "align_self": null,
            "border": null,
            "bottom": null,
            "display": null,
            "flex": null,
            "flex_flow": null,
            "grid_area": null,
            "grid_auto_columns": null,
            "grid_auto_flow": null,
            "grid_auto_rows": null,
            "grid_column": null,
            "grid_gap": null,
            "grid_row": null,
            "grid_template_areas": null,
            "grid_template_columns": null,
            "grid_template_rows": null,
            "height": null,
            "justify_content": null,
            "justify_items": null,
            "left": null,
            "margin": null,
            "max_height": null,
            "max_width": null,
            "min_height": null,
            "min_width": null,
            "object_fit": null,
            "object_position": null,
            "order": null,
            "overflow": null,
            "overflow_x": null,
            "overflow_y": null,
            "padding": null,
            "right": null,
            "top": null,
            "visibility": null,
            "width": null
          }
        },
        "d19543cc7797476485f26f864a07c412": {
          "model_module": "@jupyter-widgets/controls",
          "model_name": "DescriptionStyleModel",
          "model_module_version": "1.5.0",
          "state": {
            "_model_module": "@jupyter-widgets/controls",
            "_model_module_version": "1.5.0",
            "_model_name": "DescriptionStyleModel",
            "_view_count": null,
            "_view_module": "@jupyter-widgets/base",
            "_view_module_version": "1.2.0",
            "_view_name": "StyleView",
            "description_width": ""
          }
        },
        "79c97dd3e28c43cd8bce76ef358e1533": {
          "model_module": "@jupyter-widgets/base",
          "model_name": "LayoutModel",
          "model_module_version": "1.2.0",
          "state": {
            "_model_module": "@jupyter-widgets/base",
            "_model_module_version": "1.2.0",
            "_model_name": "LayoutModel",
            "_view_count": null,
            "_view_module": "@jupyter-widgets/base",
            "_view_module_version": "1.2.0",
            "_view_name": "LayoutView",
            "align_content": null,
            "align_items": null,
            "align_self": null,
            "border": null,
            "bottom": null,
            "display": null,
            "flex": null,
            "flex_flow": null,
            "grid_area": null,
            "grid_auto_columns": null,
            "grid_auto_flow": null,
            "grid_auto_rows": null,
            "grid_column": null,
            "grid_gap": null,
            "grid_row": null,
            "grid_template_areas": null,
            "grid_template_columns": null,
            "grid_template_rows": null,
            "height": null,
            "justify_content": null,
            "justify_items": null,
            "left": null,
            "margin": null,
            "max_height": null,
            "max_width": null,
            "min_height": null,
            "min_width": null,
            "object_fit": null,
            "object_position": null,
            "order": null,
            "overflow": null,
            "overflow_x": null,
            "overflow_y": null,
            "padding": null,
            "right": null,
            "top": null,
            "visibility": null,
            "width": null
          }
        },
        "1ea7db6ee24c466baac2bf75ca6fd951": {
          "model_module": "@jupyter-widgets/controls",
          "model_name": "ProgressStyleModel",
          "model_module_version": "1.5.0",
          "state": {
            "_model_module": "@jupyter-widgets/controls",
            "_model_module_version": "1.5.0",
            "_model_name": "ProgressStyleModel",
            "_view_count": null,
            "_view_module": "@jupyter-widgets/base",
            "_view_module_version": "1.2.0",
            "_view_name": "StyleView",
            "bar_color": null,
            "description_width": ""
          }
        },
        "eff2da1599154fac8b7af0274e18c0cf": {
          "model_module": "@jupyter-widgets/base",
          "model_name": "LayoutModel",
          "model_module_version": "1.2.0",
          "state": {
            "_model_module": "@jupyter-widgets/base",
            "_model_module_version": "1.2.0",
            "_model_name": "LayoutModel",
            "_view_count": null,
            "_view_module": "@jupyter-widgets/base",
            "_view_module_version": "1.2.0",
            "_view_name": "LayoutView",
            "align_content": null,
            "align_items": null,
            "align_self": null,
            "border": null,
            "bottom": null,
            "display": null,
            "flex": null,
            "flex_flow": null,
            "grid_area": null,
            "grid_auto_columns": null,
            "grid_auto_flow": null,
            "grid_auto_rows": null,
            "grid_column": null,
            "grid_gap": null,
            "grid_row": null,
            "grid_template_areas": null,
            "grid_template_columns": null,
            "grid_template_rows": null,
            "height": null,
            "justify_content": null,
            "justify_items": null,
            "left": null,
            "margin": null,
            "max_height": null,
            "max_width": null,
            "min_height": null,
            "min_width": null,
            "object_fit": null,
            "object_position": null,
            "order": null,
            "overflow": null,
            "overflow_x": null,
            "overflow_y": null,
            "padding": null,
            "right": null,
            "top": null,
            "visibility": null,
            "width": null
          }
        },
        "0fc1c26f93e0484193974260c8d7f26f": {
          "model_module": "@jupyter-widgets/controls",
          "model_name": "DescriptionStyleModel",
          "model_module_version": "1.5.0",
          "state": {
            "_model_module": "@jupyter-widgets/controls",
            "_model_module_version": "1.5.0",
            "_model_name": "DescriptionStyleModel",
            "_view_count": null,
            "_view_module": "@jupyter-widgets/base",
            "_view_module_version": "1.2.0",
            "_view_name": "StyleView",
            "description_width": ""
          }
        }
      }
    }
  },
  "cells": [
    {
      "cell_type": "code",
      "execution_count": 87,
      "metadata": {
        "id": "1KUFv2vyvhEH"
      },
      "outputs": [],
      "source": [
        "import numpy as np\n",
        "import torch\n",
        "import torch.nn as nn\n",
        "import torch.optim as optim\n",
        "from torch.utils.data import Dataset, DataLoader\n",
        "from tqdm.notebook import tqdm\n",
        "\n",
        "#Data\n",
        "sentences = [\"i like dog\", \"i love coffee\", \"i hate milk\", \"you like cat\", \"you love milk\", \"you hate coffee\"]\n",
        "\n",
        "i2w = list(set(' '.join(sentences).split()))\n",
        "w2i = {w:i for i,w in enumerate(i2w)}"
      ]
    },
    {
      "cell_type": "code",
      "source": [
        "#Dataset & Dataloader\n",
        "class SentenceDataset(Dataset):\n",
        "    def __init__(self, sentences, w2i):\n",
        "        self.sentences = sentences\n",
        "        self.w2i = w2i \n",
        "\n",
        "        self.x = []\n",
        "        self.y = []\n",
        "        for sen in sentences:\n",
        "            words = sen.split()\n",
        "            data_idx = [w2i[w]for w in words[:-1]]\n",
        "            target = w2i[words[-1]]\n",
        "\n",
        "            self.x.append(np.eye(len(self.w2i))[data_idx])\n",
        "            self.y.append(target)\n",
        "        \n",
        "        self.x = torch.tensor(self.x).type(torch.FloatTensor) \n",
        "        self.y = torch.tensor(self.y)\n",
        "\n",
        "    def __len__(self):\n",
        "        return len(self.y)\n",
        "\n",
        "    def __getitem__(self,idx):\n",
        "        return self.x[idx], self.y[idx]\n",
        "\n",
        "#hyperparameters\n",
        "n_layer = 2\n",
        "hidden_size = 15\n",
        "batch_size = 3\n",
        "lr = 0.01\n",
        "\n",
        "\n",
        "#dataset\n",
        "train_data = SentenceDataset(sentences, w2i)\n",
        "train_loader = DataLoader(train_data, batch_size=batch_size, shuffle=False)"
      ],
      "metadata": {
        "id": "6revlQZz9mkO"
      },
      "execution_count": 132,
      "outputs": []
    },
    {
      "cell_type": "code",
      "source": [
        "#model 구현\n",
        "class TextRNN(nn.Module):\n",
        "    def __init__(self, w2i, sequence_length, hidden_size):\n",
        "        super().__init__()\n",
        "        \n",
        "        self.rnn = nn.RNN(input_size=len(w2i), hidden_size=hidden_size, num_layers=2, batch_first=True)\n",
        "        self.fc = nn.Linear(sequence_length*hidden_size, len(w2i))\n",
        "        \n",
        "    def forward(self,x, hidden):\n",
        "        out, hn = self.rnn(x,hidden)\n",
        "        out = torch.flatten(out,1)\n",
        "        out = self.fc(out)\n",
        "        return out"
      ],
      "metadata": {
        "id": "QnuILxFoFmiv"
      },
      "execution_count": 133,
      "outputs": []
    },
    {
      "cell_type": "code",
      "source": [
        "#train\n",
        "model = TextRNN(w2i, n_layer, hidden_size)\n",
        "criterion = nn.CrossEntropyLoss()\n",
        "optimizer = optim.Adam(model.parameters(), lr=lr)\n",
        "\n",
        "model.train()\n",
        "h_0 = torch.zeros((n_layer,batch_size,hidden_size))\n",
        "for epoch in tqdm(range(500),leave=False):\n",
        "    for input, target in train_loader:\n",
        "        output = model(input,h_0)\n",
        "        loss = criterion(output, target)\n",
        "\n",
        "        optimizer.zero_grad()\n",
        "        loss.backward()\n",
        "        optimizer.step()\n",
        "\n",
        "    if (epoch + 1) % 100 == 0:\n",
        "        print('Epoch:', '%04d'%(epoch + 1), 'cost =', '{:.6f}'.format(loss))"
      ],
      "metadata": {
        "colab": {
          "base_uri": "https://localhost:8080/",
          "height": 107,
          "referenced_widgets": [
            "a7b38b5dd088459ba9fcf52b14dc0317",
            "996b746864bc4c75b7f4208fa621a96f",
            "706e40390d4c421bb892f7edfacf7e8d",
            "0ac259bcb2cb469f99db2edcf045046c",
            "24a4fce9db43479793e8cb6edbaab673",
            "70f803ede779413cb3519588d3e3b676",
            "d19543cc7797476485f26f864a07c412",
            "79c97dd3e28c43cd8bce76ef358e1533",
            "1ea7db6ee24c466baac2bf75ca6fd951",
            "eff2da1599154fac8b7af0274e18c0cf",
            "0fc1c26f93e0484193974260c8d7f26f"
          ]
        },
        "id": "BBhQczgsKhKx",
        "outputId": "b3a05a89-f746-470a-f55d-7a3226e439fd"
      },
      "execution_count": 143,
      "outputs": [
        {
          "output_type": "display_data",
          "data": {
            "text/plain": [
              "  0%|          | 0/500 [00:00<?, ?it/s]"
            ],
            "application/vnd.jupyter.widget-view+json": {
              "version_major": 2,
              "version_minor": 0,
              "model_id": "a7b38b5dd088459ba9fcf52b14dc0317"
            }
          },
          "metadata": {}
        },
        {
          "output_type": "stream",
          "name": "stdout",
          "text": [
            "Epoch: 0100 cost = 0.015562\n",
            "Epoch: 0200 cost = 0.004549\n",
            "Epoch: 0300 cost = 0.002317\n",
            "Epoch: 0400 cost = 0.001437\n",
            "Epoch: 0500 cost = 0.000988\n"
          ]
        }
      ]
    },
    {
      "cell_type": "code",
      "source": [
        "#test\n",
        "test_sentence = ['i love', 'you like', 'i hate']\n",
        "test = []\n",
        "for sen in test_sentence:\n",
        "    words = sen.split()\n",
        "    input = [w2i[w] for w in words]\n",
        "    test.append(torch.eye(len(w2i))[input])\n",
        "\n",
        "test_data = torch.cat(test).view(3,2,-1)\n",
        "\n",
        "idxs = model(test_data, h_0).max(dim=-1)[1]\n",
        "\n",
        "for i, idx in enumerate(idxs):\n",
        "    print(test_sentence[i]+f' -> {i2w[idx]}')"
      ],
      "metadata": {
        "colab": {
          "base_uri": "https://localhost:8080/"
        },
        "id": "KbVf7aa7XGR_",
        "outputId": "5965196a-bd34-4f08-8802-8f4cfbb78a0f"
      },
      "execution_count": 158,
      "outputs": [
        {
          "output_type": "stream",
          "name": "stdout",
          "text": [
            "i love -> coffee\n",
            "you like -> cat\n",
            "i hate -> milk\n"
          ]
        }
      ]
    }
  ]
}