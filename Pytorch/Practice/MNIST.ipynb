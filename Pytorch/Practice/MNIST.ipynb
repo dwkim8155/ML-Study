{
 "cells": [
  {
   "cell_type": "markdown",
   "id": "41391cf9",
   "metadata": {},
   "source": [
    "# Import"
   ]
  },
  {
   "cell_type": "code",
   "execution_count": null,
   "id": "70942b74",
   "metadata": {},
   "outputs": [],
   "source": [
    "import torch\n",
    "import torch.nn as nn\n",
    "import torch.nn.functional as F\n",
    "import torch.optim as optim\n",
    "import torchvision.datasets as dsets\n",
    "from torchvision import transforms"
   ]
  },
  {
   "cell_type": "markdown",
   "id": "352a8695",
   "metadata": {},
   "source": [
    "# Reading data"
   ]
  },
  {
   "cell_type": "code",
   "execution_count": 19,
   "id": "82c1d845",
   "metadata": {},
   "outputs": [],
   "source": [
    "mnist_train = dsets.MNIST(root=\"MNIST_data/\", train=True, transform=transforms.ToTensor(),\n",
    "                         download=True)\n",
    "mnist_test = dsets.MNIST(root=\"MNIST_data/\", train=False, transform=transforms.ToTensor(),\n",
    "                         download=True)\n",
    "data_loader = torch.utils.data.DataLoader(mnist_train, batch_size=100, shuffle=True, drop_last=True)"
   ]
  },
  {
   "cell_type": "markdown",
   "id": "fee24362",
   "metadata": {},
   "source": [
    "# Training"
   ]
  },
  {
   "cell_type": "code",
   "execution_count": 11,
   "id": "8049dc39",
   "metadata": {},
   "outputs": [],
   "source": [
    "class SoftmaxClassifierModel(nn.Module):\n",
    "    def __init__(self):\n",
    "        super().__init__()\n",
    "        self.linear = nn.Linear(784,10)\n",
    "    def forward(self,x):\n",
    "        return self.linear(x)"
   ]
  },
  {
   "cell_type": "code",
   "execution_count": 13,
   "id": "4bdfa8d5",
   "metadata": {},
   "outputs": [],
   "source": [
    "model = SoftmaxClassifierModel()"
   ]
  },
  {
   "cell_type": "code",
   "execution_count": 36,
   "id": "f449e63b",
   "metadata": {},
   "outputs": [],
   "source": [
    "optimizer = optim.SGD(model.parameters(), lr=1)"
   ]
  },
  {
   "cell_type": "code",
   "execution_count": 40,
   "id": "ee359cc2",
   "metadata": {},
   "outputs": [],
   "source": [
    "nb_epochs = 20\n",
    "batch_size = 100"
   ]
  },
  {
   "cell_type": "code",
   "execution_count": 41,
   "id": "6bb0581a",
   "metadata": {},
   "outputs": [
    {
     "name": "stdout",
     "output_type": "stream",
     "text": [
      "Epoch:    0 / 20 Cost: 0.284335\n",
      "Epoch:    1 / 20 Cost: 0.281549\n",
      "Epoch:    2 / 20 Cost: 0.280413\n",
      "Epoch:    3 / 20 Cost: 0.277872\n",
      "Epoch:    4 / 20 Cost: 0.276932\n",
      "Epoch:    5 / 20 Cost: 0.275006\n",
      "Epoch:    6 / 20 Cost: 0.273335\n",
      "Epoch:    7 / 20 Cost: 0.272181\n",
      "Epoch:    8 / 20 Cost: 0.271920\n",
      "Epoch:    9 / 20 Cost: 0.270433\n",
      "Epoch:   10 / 20 Cost: 0.270087\n",
      "Epoch:   11 / 20 Cost: 0.268600\n",
      "Epoch:   12 / 20 Cost: 0.269355\n",
      "Epoch:   13 / 20 Cost: 0.267059\n",
      "Epoch:   14 / 20 Cost: 0.266114\n",
      "Epoch:   15 / 20 Cost: 0.265608\n",
      "Epoch:   16 / 20 Cost: 0.266147\n",
      "Epoch:   17 / 20 Cost: 0.264634\n",
      "Epoch:   18 / 20 Cost: 0.266053\n",
      "Epoch:   19 / 20 Cost: 0.266357\n",
      "Epoch:   20 / 20 Cost: 0.263425\n"
     ]
    }
   ],
   "source": [
    "for epoch in range(nb_epochs+1):\n",
    "    avg_cost = 0\n",
    "    total_batch = len(data_loader)\n",
    "    for X, y in data_loader:\n",
    "        \n",
    "        # reshape\n",
    "        X = X.view(-1,28*28)\n",
    "        \n",
    "        # H(x) 계산\n",
    "        h = model(X)\n",
    "        \n",
    "        # Cost 계산\n",
    "        cost = F.cross_entropy(h,y)\n",
    "        \n",
    "        optimizer.zero_grad()\n",
    "        cost.backward()\n",
    "        optimizer.step()\n",
    "        \n",
    "        avg_cost += cost / total_batch\n",
    "    \n",
    "    print('Epoch: {:4d} / {} Cost: {:.6f}'.format(epoch, nb_epochs,avg_cost))\n",
    "    \n",
    "    "
   ]
  },
  {
   "cell_type": "markdown",
   "id": "24a69059",
   "metadata": {},
   "source": [
    "# Test"
   ]
  },
  {
   "cell_type": "code",
   "execution_count": 49,
   "id": "4e47b744",
   "metadata": {},
   "outputs": [
    {
     "name": "stdout",
     "output_type": "stream",
     "text": [
      "torch.Size([10000])\n",
      "Accuracy:  0.8432000279426575\n"
     ]
    }
   ],
   "source": [
    "with torch.no_grad():\n",
    "    X_test = mnist_test.data.view(-1,28*28).float()\n",
    "    y_test = mnist_test.targets\n",
    "    \n",
    "    prediction = model(X_test)\n",
    "    correct_prediction = torch.argmax(prediction, 1) == y_test\n",
    "    accuracy = correct_prediction.float().mean()\n",
    "    print(\"Accuracy: \", accuracy.item())\n",
    "    "
   ]
  },
  {
   "cell_type": "code",
   "execution_count": null,
   "id": "2e624ff9",
   "metadata": {},
   "outputs": [],
   "source": []
  }
 ],
 "metadata": {
  "kernelspec": {
   "display_name": "Python 3 (ipykernel)",
   "language": "python",
   "name": "python3"
  },
  "language_info": {
   "codemirror_mode": {
    "name": "ipython",
    "version": 3
   },
   "file_extension": ".py",
   "mimetype": "text/x-python",
   "name": "python",
   "nbconvert_exporter": "python",
   "pygments_lexer": "ipython3",
   "version": "3.9.12"
  }
 },
 "nbformat": 4,
 "nbformat_minor": 5
}
