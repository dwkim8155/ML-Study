{
 "cells": [
  {
   "cell_type": "markdown",
   "id": "a2fdee28",
   "metadata": {},
   "source": [
    "# Import"
   ]
  },
  {
   "cell_type": "code",
   "execution_count": 36,
   "id": "d24a49a9",
   "metadata": {},
   "outputs": [],
   "source": [
    "import torch\n",
    "import torch.nn as nn\n",
    "import torch.nn.functional as F\n",
    "import torch.optim as optim\n",
    "import matplotlib.pyplot as plt\n",
    "import numpy as np"
   ]
  },
  {
   "cell_type": "code",
   "execution_count": 9,
   "id": "53d182e4",
   "metadata": {},
   "outputs": [
    {
     "data": {
      "text/plain": [
       "<torch._C.Generator at 0x24c9aa31050>"
      ]
     },
     "execution_count": 9,
     "metadata": {},
     "output_type": "execute_result"
    }
   ],
   "source": [
    "# For reproducibility\n",
    "torch.manual_seed(1)"
   ]
  },
  {
   "cell_type": "markdown",
   "id": "4818d719",
   "metadata": {},
   "source": [
    "# Softmax"
   ]
  },
  {
   "cell_type": "code",
   "execution_count": 32,
   "id": "6b3dd1ee",
   "metadata": {},
   "outputs": [
    {
     "name": "stdout",
     "output_type": "stream",
     "text": [
      "tensor([0.0900, 0.2447, 0.6652])\n",
      "1.0\n",
      "tensor(0.0900)\n",
      "tensor(0.2447)\n",
      "tensor(0.6652)\n"
     ]
    }
   ],
   "source": [
    "z = torch.FloatTensor([1,2,3])\n",
    "\n",
    "hypothesis = F.softmax(z, dim=0)\n",
    "\n",
    "print(hypothesis)\n",
    "print(hypothesis.sum().item())\n",
    "\n",
    "for i in range(len(z)):\n",
    "    print(torch.exp(z[i])/torch.exp(z).sum())"
   ]
  },
  {
   "cell_type": "markdown",
   "id": "73f7f669",
   "metadata": {},
   "source": [
    "# Cross Entrophy Loss(Low-level)"
   ]
  },
  {
   "cell_type": "code",
   "execution_count": 58,
   "id": "47f516be",
   "metadata": {},
   "outputs": [
    {
     "name": "stdout",
     "output_type": "stream",
     "text": [
      "tensor([[0.2586, 0.1934, 0.2074, 0.1558, 0.1848],\n",
      "        [0.1437, 0.2074, 0.1835, 0.1895, 0.2759],\n",
      "        [0.2611, 0.2255, 0.1629, 0.1135, 0.2370]], grad_fn=<SoftmaxBackward0>)\n"
     ]
    }
   ],
   "source": [
    "z = torch.rand(3,5, requires_grad =True)\n",
    "h = F.softmax(z, dim = 1)\n",
    "print(h)"
   ]
  },
  {
   "cell_type": "code",
   "execution_count": 113,
   "id": "31ac3602",
   "metadata": {},
   "outputs": [
    {
     "name": "stdout",
     "output_type": "stream",
     "text": [
      "tensor([4, 2, 4])\n"
     ]
    },
    {
     "data": {
      "text/plain": [
       "tensor([[0., 0., 0., 0., 1.],\n",
       "        [0., 0., 1., 0., 0.],\n",
       "        [0., 0., 0., 0., 1.]])"
      ]
     },
     "execution_count": 113,
     "metadata": {},
     "output_type": "execute_result"
    }
   ],
   "source": [
    "y = torch.randint(5,(3,))\n",
    "print(y)\n",
    "y_one_hot = torch.zeros_like(h)\n",
    "y_one_hot.scatter_(1,y.unsqueeze(1),1)"
   ]
  },
  {
   "cell_type": "code",
   "execution_count": 115,
   "id": "24b7fcc4",
   "metadata": {
    "scrolled": true
   },
   "outputs": [
    {
     "name": "stdout",
     "output_type": "stream",
     "text": [
      "tensor(1.6079, grad_fn=<MeanBackward0>)\n"
     ]
    }
   ],
   "source": [
    "cost = (y_one_hot*-torch.log(h)).sum(dim=1).mean()\n",
    "print(cost)"
   ]
  },
  {
   "cell_type": "markdown",
   "id": "db40fe53",
   "metadata": {},
   "source": [
    "# Cross-entropy Loss with torch.nn.functional"
   ]
  },
  {
   "cell_type": "code",
   "execution_count": 121,
   "id": "a01f6269",
   "metadata": {},
   "outputs": [
    {
     "data": {
      "text/plain": [
       "tensor([[-1.3524, -1.6428, -1.5731, -1.8593, -1.6887],\n",
       "        [-1.9400, -1.5730, -1.6955, -1.6634, -1.2878],\n",
       "        [-1.3430, -1.4893, -1.8144, -2.1762, -1.4396]], grad_fn=<LogBackward0>)"
      ]
     },
     "execution_count": 121,
     "metadata": {},
     "output_type": "execute_result"
    }
   ],
   "source": [
    "torch.log(F.softmax(z,dim=1))"
   ]
  },
  {
   "cell_type": "code",
   "execution_count": 122,
   "id": "28cfc485",
   "metadata": {},
   "outputs": [
    {
     "data": {
      "text/plain": [
       "tensor([[-1.3524, -1.6428, -1.5731, -1.8593, -1.6887],\n",
       "        [-1.9400, -1.5730, -1.6955, -1.6634, -1.2878],\n",
       "        [-1.3430, -1.4893, -1.8144, -2.1762, -1.4396]],\n",
       "       grad_fn=<LogSoftmaxBackward0>)"
      ]
     },
     "execution_count": 122,
     "metadata": {},
     "output_type": "execute_result"
    }
   ],
   "source": [
    "F.log_softmax(z,dim=1)"
   ]
  },
  {
   "cell_type": "code",
   "execution_count": 117,
   "id": "0fa7f656",
   "metadata": {},
   "outputs": [
    {
     "data": {
      "text/plain": [
       "tensor(1.6079, grad_fn=<MeanBackward0>)"
      ]
     },
     "execution_count": 117,
     "metadata": {},
     "output_type": "execute_result"
    }
   ],
   "source": [
    "# Low level\n",
    "(y_one_hot*-torch.log(F.softmax(z,dim=1))).sum(dim=1).mean()"
   ]
  },
  {
   "cell_type": "code",
   "execution_count": 123,
   "id": "a241dafa",
   "metadata": {},
   "outputs": [
    {
     "data": {
      "text/plain": [
       "tensor(1.6079, grad_fn=<NllLossBackward0>)"
      ]
     },
     "execution_count": 123,
     "metadata": {},
     "output_type": "execute_result"
    }
   ],
   "source": [
    "# High level\n",
    "F.nll_loss(F.log_softmax(z,dim=1), y) "
   ]
  },
  {
   "cell_type": "code",
   "execution_count": 124,
   "id": "6a73eadc",
   "metadata": {},
   "outputs": [
    {
     "data": {
      "text/plain": [
       "tensor(1.6079, grad_fn=<NllLossBackward0>)"
      ]
     },
     "execution_count": 124,
     "metadata": {},
     "output_type": "execute_result"
    }
   ],
   "source": [
    "F.cross_entropy(z,y)"
   ]
  },
  {
   "cell_type": "markdown",
   "id": "5a71b2af",
   "metadata": {},
   "source": [
    "# Training with Low-level Cross Entropy Loss"
   ]
  },
  {
   "cell_type": "code",
   "execution_count": 143,
   "id": "81133773",
   "metadata": {},
   "outputs": [
    {
     "name": "stdout",
     "output_type": "stream",
     "text": [
      "torch.Size([8, 4])\n",
      "torch.Size([8])\n"
     ]
    }
   ],
   "source": [
    "x_train = [[1,2,1,1],\n",
    "           [2,1,3,2],\n",
    "           [3,1,3,4],\n",
    "           [4,1,5,5],\n",
    "           [1,7,5,5],\n",
    "           [1,2,5,6],\n",
    "           [1,6,6,6],\n",
    "           [1,7,7,7]]\n",
    "y_train = [2,2,2,1,1,1,0,0]\n",
    "\n",
    "x_train = torch.FloatTensor(x_train)\n",
    "y_train = torch.LongTensor(y_train)\n",
    "\n",
    "print(x_train.shape)\n",
    "print(y_train.shape)"
   ]
  },
  {
   "cell_type": "code",
   "execution_count": 144,
   "id": "f9927758",
   "metadata": {},
   "outputs": [
    {
     "name": "stdout",
     "output_type": "stream",
     "text": [
      "tensor([[0., 0., 0.],\n",
      "        [0., 0., 0.],\n",
      "        [0., 0., 0.],\n",
      "        [0., 0., 0.]], requires_grad=True)\n",
      "tensor([0., 0., 0.], requires_grad=True)\n"
     ]
    }
   ],
   "source": [
    "W = torch.zeros(4,3, requires_grad=True)\n",
    "b = torch.zeros(3, requires_grad=True)\n",
    "\n",
    "print(W)\n",
    "print(b)     "
   ]
  },
  {
   "cell_type": "code",
   "execution_count": 166,
   "id": "ec5bbef4",
   "metadata": {},
   "outputs": [
    {
     "name": "stdout",
     "output_type": "stream",
     "text": [
      "Epoch:    0/5000\tCost:0.0001869349944172427\n",
      "Epoch:  100/5000\tCost:0.00018672627629712224\n",
      "Epoch:  200/5000\tCost:0.00018651754362508655\n",
      "Epoch:  300/5000\tCost:0.00018629392434377223\n",
      "Epoch:  400/5000\tCost:0.00018605538934934884\n",
      "Epoch:  500/5000\tCost:0.00018587647355161607\n",
      "Epoch:  600/5000\tCost:0.00018568267114460468\n",
      "Epoch:  700/5000\tCost:0.0001854590664152056\n",
      "Epoch:  800/5000\tCost:0.0001852652640081942\n",
      "Epoch:  900/5000\tCost:0.00018507146160118282\n",
      "Epoch: 1000/5000\tCost:0.00018487765919417143\n",
      "Epoch: 1100/5000\tCost:0.0001846987579483539\n",
      "Epoch: 1200/5000\tCost:0.00018450497009325773\n",
      "Epoch: 1300/5000\tCost:0.00018437078688293695\n",
      "Epoch: 1400/5000\tCost:0.00018414721125736833\n",
      "Epoch: 1500/5000\tCost:0.00018398321117274463\n",
      "Epoch: 1600/5000\tCost:0.00018378940876573324\n",
      "Epoch: 1700/5000\tCost:0.00018359562091063708\n",
      "Epoch: 1800/5000\tCost:0.0001834465510910377\n",
      "Epoch: 1900/5000\tCost:0.00018329746671952307\n",
      "Epoch: 2000/5000\tCost:0.0001831260451581329\n",
      "Epoch: 2100/5000\tCost:0.00018293225730303675\n",
      "Epoch: 2200/5000\tCost:0.00018276830087415874\n",
      "Epoch: 2300/5000\tCost:0.00018261921650264412\n",
      "Epoch: 2400/5000\tCost:0.00018244034436065704\n",
      "Epoch: 2500/5000\tCost:0.00018229127454105765\n",
      "Epoch: 2600/5000\tCost:0.00018212728900834918\n",
      "Epoch: 2700/5000\tCost:0.00018197824829258025\n",
      "Epoch: 2800/5000\tCost:0.00018179936159867793\n",
      "Epoch: 2900/5000\tCost:0.00018165029177907854\n",
      "Epoch: 3000/5000\tCost:0.00018148633535020053\n",
      "Epoch: 3100/5000\tCost:0.00018133726553060114\n",
      "Epoch: 3200/5000\tCost:0.00018118821026291698\n",
      "Epoch: 3300/5000\tCost:0.00018100932356901467\n",
      "Epoch: 3400/5000\tCost:0.0001808602683013305\n",
      "Epoch: 3500/5000\tCost:0.0001807261141948402\n",
      "Epoch: 3600/5000\tCost:0.00018056214321404696\n",
      "Epoch: 3700/5000\tCost:0.0001804130879463628\n",
      "Epoch: 3800/5000\tCost:0.00018024911696556956\n",
      "Epoch: 3900/5000\tCost:0.0001801000616978854\n",
      "Epoch: 4000/5000\tCost:0.00017993610526900738\n",
      "Epoch: 4100/5000\tCost:0.00017980193661060184\n",
      "Epoch: 4200/5000\tCost:0.00017966779705602676\n",
      "Epoch: 4300/5000\tCost:0.00017953364294953644\n",
      "Epoch: 4400/5000\tCost:0.00017935475625563413\n",
      "Epoch: 4500/5000\tCost:0.00017922805272974074\n",
      "Epoch: 4600/5000\tCost:0.00017909391317516565\n",
      "Epoch: 4700/5000\tCost:0.0001789448579074815\n",
      "Epoch: 4800/5000\tCost:0.00017879580263979733\n",
      "Epoch: 4900/5000\tCost:0.00017864673282019794\n",
      "Epoch: 5000/5000\tCost:0.00017851257871370763\n"
     ]
    }
   ],
   "source": [
    "optimizer = optim.SGD([W,b], lr = 1)\n",
    "\n",
    "nb_epochs = 5000\n",
    "\n",
    "for epoch in range(nb_epochs+1):\n",
    "    \n",
    "    z = x_train.matmul(W) + b\n",
    "    h = torch.softmax(z, dim=1)\n",
    "    \n",
    "    y_ont_hot = torch.zeros_like(h)\n",
    "    y_ont_hot.scatter_(1,y_train.unsqueeze(1), 1)\n",
    "    \n",
    "    cost = (y_ont_hot*-torch.log(h)).sum(dim=1).mean()\n",
    "    \n",
    "    optimizer.zero_grad()\n",
    "    cost.backward()\n",
    "    optimizer.step()\n",
    "    \n",
    "    if epoch%100 ==0:\n",
    "        print(\"Epoch: {:4d}/{}\\tCost:{}\".format(epoch,nb_epochs,cost.item()))"
   ]
  },
  {
   "cell_type": "code",
   "execution_count": 167,
   "id": "d88a44de",
   "metadata": {},
   "outputs": [],
   "source": [
    "y_pred = torch.softmax((x_train[:2].matmul(W)+b), dim=1).max(dim=1)[1]"
   ]
  },
  {
   "cell_type": "code",
   "execution_count": 168,
   "id": "96006040",
   "metadata": {},
   "outputs": [
    {
     "name": "stdout",
     "output_type": "stream",
     "text": [
      "tensor([2, 2])\n",
      "tensor([2, 2])\n"
     ]
    }
   ],
   "source": [
    "print(y_pred)\n",
    "print(y_train[:2])"
   ]
  },
  {
   "cell_type": "code",
   "execution_count": null,
   "id": "f399e5a2",
   "metadata": {},
   "outputs": [],
   "source": []
  }
 ],
 "metadata": {
  "kernelspec": {
   "display_name": "Python 3 (ipykernel)",
   "language": "python",
   "name": "python3"
  },
  "language_info": {
   "codemirror_mode": {
    "name": "ipython",
    "version": 3
   },
   "file_extension": ".py",
   "mimetype": "text/x-python",
   "name": "python",
   "nbconvert_exporter": "python",
   "pygments_lexer": "ipython3",
   "version": "3.9.12"
  }
 },
 "nbformat": 4,
 "nbformat_minor": 5
}
