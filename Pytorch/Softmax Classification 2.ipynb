{
 "cells": [
  {
   "cell_type": "markdown",
   "id": "faea796e",
   "metadata": {},
   "source": [
    "# Import"
   ]
  },
  {
   "cell_type": "code",
   "execution_count": 1,
   "id": "57ea7d43",
   "metadata": {},
   "outputs": [],
   "source": [
    "import torch\n",
    "import torch.nn as nn\n",
    "import torch.nn.functional as F\n",
    "import torch.optim as optim"
   ]
  },
  {
   "cell_type": "markdown",
   "id": "16047e7c",
   "metadata": {},
   "source": [
    "# Training and Test Dataset"
   ]
  },
  {
   "cell_type": "code",
   "execution_count": 2,
   "id": "03c50bda",
   "metadata": {},
   "outputs": [],
   "source": [
    "x_train = torch.FloatTensor([[1,2,1],\n",
    "                             [1,3,2],\n",
    "                             [1,3,4],\n",
    "                             [1,5,5],\n",
    "                             [1,7,5],\n",
    "                             [1,2,5],\n",
    "                             [1,6,6],\n",
    "                             [1,7,7]\n",
    "                            ])\n",
    "y_train = torch.LongTensor([2,2,2,1,1,1,0,0])"
   ]
  },
  {
   "cell_type": "code",
   "execution_count": 3,
   "id": "1f04dfe7",
   "metadata": {},
   "outputs": [],
   "source": [
    "x_test = torch.FloatTensor([[2,1,1,],[3,1,2],[3,3,4]])\n",
    "y_test = torch.LongTensor([2,2,2])"
   ]
  },
  {
   "cell_type": "markdown",
   "id": "7f1bb7aa",
   "metadata": {},
   "source": [
    "# Model"
   ]
  },
  {
   "cell_type": "code",
   "execution_count": 34,
   "id": "39578547",
   "metadata": {},
   "outputs": [],
   "source": [
    "class SoftmaxClassifierModel(nn.Module):\n",
    "    def __init__(self):\n",
    "        super().__init__()\n",
    "        self.linear = nn.Linear(3,3)\n",
    "    def forward(self,x):\n",
    "        return self.linear(x)"
   ]
  },
  {
   "cell_type": "code",
   "execution_count": 35,
   "id": "7ae1c41d",
   "metadata": {
    "scrolled": true
   },
   "outputs": [],
   "source": [
    "model = SoftmaxClassifierModel()"
   ]
  },
  {
   "cell_type": "code",
   "execution_count": 36,
   "id": "a29913ef",
   "metadata": {},
   "outputs": [],
   "source": [
    "#optimizer 설정\n",
    "optimizer = optim.SGD(model.parameters(), lr=0.1)"
   ]
  },
  {
   "cell_type": "markdown",
   "id": "3f232b36",
   "metadata": {},
   "source": [
    "# Training"
   ]
  },
  {
   "cell_type": "code",
   "execution_count": 37,
   "id": "98ea590f",
   "metadata": {},
   "outputs": [],
   "source": [
    "def train(model, optimizer, x_trian, y_train):\n",
    "    nb_epochs = 20\n",
    "    for epoch in range(nb_epochs):\n",
    "        \n",
    "        # H(x) 계산\n",
    "        prediction = model(x_train)\n",
    "        \n",
    "        # cost 계산\n",
    "        cost = F.cross_entropy(prediction, y_train)\n",
    "        \n",
    "        # cost로 H(x) 개선\n",
    "        optimizer.zero_grad()\n",
    "        cost.backward()\n",
    "        optimizer.step()\n",
    "        \n",
    "        print('Epoch {:4d}/{} Cost: {:.6f}'.format(epoch, nb_epochs, cost.item()))"
   ]
  },
  {
   "cell_type": "markdown",
   "id": "bdcb2310",
   "metadata": {},
   "source": [
    "# Test(Validation)"
   ]
  },
  {
   "cell_type": "code",
   "execution_count": 38,
   "id": "4015eb47",
   "metadata": {},
   "outputs": [],
   "source": [
    "def test(model, optimizer, x_text, y_test):\n",
    "    prediction = model(x_test)\n",
    "    predicted_classes = prediction.max(1)[1]\n",
    "    correct_count = (predicted_classes == y_test).sum().item()\n",
    "    cost = F.cross_entropy(prediction, y_test)\n",
    "    \n",
    "    print('Accuracy: {}% Cost: {:.6f}'.format(correct_count / len(y_test)*100, cost.item() ))"
   ]
  },
  {
   "cell_type": "code",
   "execution_count": 39,
   "id": "4108b148",
   "metadata": {},
   "outputs": [
    {
     "name": "stdout",
     "output_type": "stream",
     "text": [
      "Epoch    0/20 Cost: 1.401997\n",
      "Epoch    1/20 Cost: 1.008345\n",
      "Epoch    2/20 Cost: 0.956223\n",
      "Epoch    3/20 Cost: 0.944158\n",
      "Epoch    4/20 Cost: 0.933764\n",
      "Epoch    5/20 Cost: 0.926199\n",
      "Epoch    6/20 Cost: 0.919250\n",
      "Epoch    7/20 Cost: 0.913318\n",
      "Epoch    8/20 Cost: 0.907715\n",
      "Epoch    9/20 Cost: 0.902565\n",
      "Epoch   10/20 Cost: 0.897629\n",
      "Epoch   11/20 Cost: 0.892938\n",
      "Epoch   12/20 Cost: 0.888400\n",
      "Epoch   13/20 Cost: 0.884021\n",
      "Epoch   14/20 Cost: 0.879762\n",
      "Epoch   15/20 Cost: 0.875619\n",
      "Epoch   16/20 Cost: 0.871576\n",
      "Epoch   17/20 Cost: 0.867627\n",
      "Epoch   18/20 Cost: 0.863765\n",
      "Epoch   19/20 Cost: 0.859985\n"
     ]
    }
   ],
   "source": [
    "train(model, optimizer, x_train, y_train)"
   ]
  },
  {
   "cell_type": "code",
   "execution_count": 18,
   "id": "7a58523f",
   "metadata": {},
   "outputs": [
    {
     "name": "stdout",
     "output_type": "stream",
     "text": [
      "Accuracy: 100.0% Cost: 0.422254\n"
     ]
    }
   ],
   "source": [
    "test(model, optimizer, x_test, y_test)"
   ]
  },
  {
   "cell_type": "code",
   "execution_count": null,
   "id": "3a4318ee",
   "metadata": {},
   "outputs": [],
   "source": []
  }
 ],
 "metadata": {
  "kernelspec": {
   "display_name": "Python 3 (ipykernel)",
   "language": "python",
   "name": "python3"
  },
  "language_info": {
   "codemirror_mode": {
    "name": "ipython",
    "version": 3
   },
   "file_extension": ".py",
   "mimetype": "text/x-python",
   "name": "python",
   "nbconvert_exporter": "python",
   "pygments_lexer": "ipython3",
   "version": "3.9.12"
  }
 },
 "nbformat": 4,
 "nbformat_minor": 5
}
