{
 "cells": [
  {
   "cell_type": "markdown",
   "metadata": {},
   "source": [
    "# FashionMNIST 데이터를 활용한 AlexNet 구현 및 학습"
   ]
  },
  {
   "cell_type": "code",
   "execution_count": 49,
   "metadata": {
    "id": "EcbxusFhXTb3"
   },
   "outputs": [],
   "source": [
    "import torch\n",
    "import torch.nn as nn\n",
    "import torch.optim as optim\n",
    "import torch.nn.functional as F\n",
    "from torchvision import transforms, datasets\n",
    "from torch.utils.data import Dataset, DataLoader\n",
    "import matplotlib.pyplot as plt"
   ]
  },
  {
   "cell_type": "code",
   "execution_count": 50,
   "metadata": {
    "colab": {
     "base_uri": "https://localhost:8080/"
    },
    "id": "XbK0SL8rZSe3",
    "outputId": "3a1f807c-9841-44ef-c703-3920f636340e"
   },
   "outputs": [
    {
     "name": "stdout",
     "output_type": "stream",
     "text": [
      "1.13.1+cu116\n",
      "cuda\n"
     ]
    }
   ],
   "source": [
    "image_size = 227\n",
    "num_epochs = 10\n",
    "batch_size = 64\n",
    "\n",
    "device = ('cuda' if torch.cuda.is_available() else 'cpu')\n",
    "class_names = ['T-shirt/top', 'Trouser', 'Pullover', 'Dress', 'Coat',\n",
    "               'Sandal', 'Shirt', 'Sneaker', 'Bag', 'Ankle boot']\n",
    "\n",
    "print(torch.__version__)\n",
    "print(device)"
   ]
  },
  {
   "cell_type": "code",
   "execution_count": 51,
   "metadata": {
    "id": "gaNa2l76ZpOo"
   },
   "outputs": [],
   "source": [
    "transform = transforms.Compose([\n",
    "    transforms.Resize(image_size),\n",
    "    transforms.ToTensor()\n",
    "])"
   ]
  },
  {
   "cell_type": "code",
   "execution_count": 52,
   "metadata": {
    "id": "LQjtTrk0afoq"
   },
   "outputs": [],
   "source": [
    "train_data = datasets.FashionMNIST(\n",
    "    root = 'data',\n",
    "    train = True,\n",
    "    download = True,\n",
    "    transform = transform\n",
    ")\n",
    "\n",
    "test_data = datasets.FashionMNIST(\n",
    "    root = 'data',\n",
    "    train = False,\n",
    "    download = True,\n",
    "    transform = transform\n",
    ")"
   ]
  },
  {
   "cell_type": "code",
   "execution_count": 53,
   "metadata": {
    "id": "nVcSPbR_bh76"
   },
   "outputs": [],
   "source": [
    "train_loader = DataLoader(train_data, batch_size=64, shuffle=True)\n",
    "test_loader = DataLoader(test_data, batch_size=64, shuffle=True)"
   ]
  },
  {
   "cell_type": "markdown",
   "metadata": {
    "id": "cfQ1oZPvYQOm"
   },
   "source": []
  },
  {
   "cell_type": "code",
   "execution_count": 54,
   "metadata": {
    "colab": {
     "base_uri": "https://localhost:8080/"
    },
    "id": "gY0dv_82cHFU",
    "outputId": "ad0b359b-fd2a-47b2-fef7-9b61278c8a84"
   },
   "outputs": [
    {
     "data": {
      "text/plain": [
       "torch.Size([64, 1, 227, 227])"
      ]
     },
     "execution_count": 54,
     "metadata": {},
     "output_type": "execute_result"
    }
   ],
   "source": [
    "next(iter(train_loader))[0].shape"
   ]
  },
  {
   "cell_type": "code",
   "execution_count": 55,
   "metadata": {
    "id": "YtCODZgncIEQ"
   },
   "outputs": [],
   "source": [
    "class AlexNetFashionMNIST(nn.Module):\n",
    "    def __init__(self):\n",
    "        super().__init__()\n",
    "        self.conv1 = nn.Sequential(\n",
    "            nn.Conv2d(in_channels=1, out_channels=96, kernel_size=11, stride=4, padding=0),\n",
    "            #input_size : 1x227x227\n",
    "            #kernel_number : 96\n",
    "            #output_w : ((227-11)/4) + 1) = 55\n",
    "            #output_size : 96x55x55\n",
    "            nn.ReLU(), # size 동일\n",
    "            nn.MaxPool2d(3,2)\n",
    "            #((55-3)/2)+1) = 27\n",
    "            #최종 96x27x27 feature map 생성 \n",
    "        )\n",
    "        self.conv2 = nn.Sequential(\n",
    "            nn.Conv2d(in_channels=96, out_channels=256, kernel_size=5, stride=1, padding=2),\n",
    "            #256x27x27\n",
    "            nn.ReLU(),#256x27x27\n",
    "            nn.MaxPool2d(3, 2)\n",
    "            #256x13x13\n",
    "        )\n",
    "        self.conv3 = nn.Sequential(\n",
    "            nn.Conv2d(in_channels=256, out_channels=384, kernel_size=3, stride=1, padding=1),\n",
    "            #13 유지\n",
    "            nn.ReLU()\n",
    "            #384x13x13\n",
    "        )\n",
    "        self.conv4 = nn.Sequential(\n",
    "            nn.Conv2d(in_channels=384, out_channels=384, kernel_size=3, stride=1, padding=1),\n",
    "            #13 유지\n",
    "            nn.ReLU()\n",
    "            #384x13x13\n",
    "        )\n",
    "        self.conv5 = nn.Sequential(\n",
    "            nn.Conv2d(in_channels=384, out_channels=256, kernel_size=3, stride=1, padding=1),\n",
    "            nn.ReLU(),\n",
    "            nn.MaxPool2d(3, 2)# 13 -> 6\n",
    "            #256x6x6\n",
    "        )\n",
    "        \n",
    "        \n",
    "        self.fc1 = nn.Linear(in_features=256*6*6, out_features=4096)\n",
    "        self.fc2 = nn.Linear(4096, 4096)\n",
    "        self.fc3 = nn.Linear(4096,10)\n",
    "    \n",
    "    \n",
    "    def forward(self,x): #input_size = 64x1x227x227\n",
    "        out = self.conv1(x)\n",
    "        out = self.conv2(out)\n",
    "        out = self.conv3(out)\n",
    "        out = self.conv4(out)\n",
    "        out = self.conv5(out)\n",
    "        out = out.view(out.size(0),-1)# 64x(256*6*6)\n",
    "        \n",
    "        out = F.relu(self.fc1(out))\n",
    "        out = F.dropout(out, 0.5)\n",
    "        out = F.relu(self.fc2(out))\n",
    "        out = F.dropout(out, 0.5)\n",
    "        out = self.fc3(out)\n",
    "        out = F.log_softmax(out, dim=1)\n",
    "        \n",
    "        return out"
   ]
  },
  {
   "cell_type": "code",
   "execution_count": 56,
   "metadata": {
    "id": "ooaJ369Md_JP"
   },
   "outputs": [],
   "source": [
    "model = AlexNetFashionMNIST().to(device)\n",
    "criterion = F.nll_loss\n",
    "optimizer = optim.Adam(model.parameters())"
   ]
  },
  {
   "cell_type": "code",
   "execution_count": 57,
   "metadata": {
    "colab": {
     "base_uri": "https://localhost:8080/"
    },
    "id": "hD6arMy7eN-I",
    "outputId": "8ba5ce72-470e-4e97-efd2-b6994a3f76d9"
   },
   "outputs": [
    {
     "name": "stdout",
     "output_type": "stream",
     "text": [
      "----------------------------------------------------------------\n",
      "        Layer (type)               Output Shape         Param #\n",
      "================================================================\n",
      "            Conv2d-1           [64, 96, 55, 55]          11,712\n",
      "              ReLU-2           [64, 96, 55, 55]               0\n",
      "         MaxPool2d-3           [64, 96, 27, 27]               0\n",
      "            Conv2d-4          [64, 256, 27, 27]         614,656\n",
      "              ReLU-5          [64, 256, 27, 27]               0\n",
      "         MaxPool2d-6          [64, 256, 13, 13]               0\n",
      "            Conv2d-7          [64, 384, 13, 13]         885,120\n",
      "              ReLU-8          [64, 384, 13, 13]               0\n",
      "            Conv2d-9          [64, 384, 13, 13]       1,327,488\n",
      "             ReLU-10          [64, 384, 13, 13]               0\n",
      "           Conv2d-11          [64, 256, 13, 13]         884,992\n",
      "             ReLU-12          [64, 256, 13, 13]               0\n",
      "        MaxPool2d-13            [64, 256, 6, 6]               0\n",
      "           Linear-14                 [64, 4096]      37,752,832\n",
      "           Linear-15                 [64, 4096]      16,781,312\n",
      "           Linear-16                   [64, 10]          40,970\n",
      "================================================================\n",
      "Total params: 58,299,082\n",
      "Trainable params: 58,299,082\n",
      "Non-trainable params: 0\n",
      "----------------------------------------------------------------\n",
      "Input size (MB): 12.58\n",
      "Forward/backward pass size (MB): 698.65\n",
      "Params size (MB): 222.39\n",
      "Estimated Total Size (MB): 933.62\n",
      "----------------------------------------------------------------\n"
     ]
    }
   ],
   "source": [
    "from torchsummary import summary as s\n",
    "\n",
    "s(model, (1,227,227), batch_size)"
   ]
  },
  {
   "cell_type": "code",
   "execution_count": 58,
   "metadata": {
    "id": "xSxTBnzIesyZ"
   },
   "outputs": [],
   "source": [
    "def train(model, device, train_loader, optimizer, epoch):\n",
    "    model.train()\n",
    "    for batch_idx, (data,target) in enumerate(train_loader):\n",
    "        data, target = data.to(device), target.to(device)\n",
    "\n",
    "        output = model(data)\n",
    "        loss = criterion(output,target)\n",
    "\n",
    "        optimizer.zero_grad()\n",
    "        loss.backward()\n",
    "        optimizer.step()\n",
    "\n",
    "        if (batch_idx+1)%30 == 0:\n",
    "            print(f'Train Epoch: {epoch} {100*(batch_idx+1)*batch_size/len(train_loader.dataset):.6f}%')"
   ]
  },
  {
   "cell_type": "code",
   "execution_count": 60,
   "metadata": {
    "id": "QzJPKrRZfq4n"
   },
   "outputs": [],
   "source": [
    "def test(model, device, test_loader):\n",
    "    model.eval()\n",
    "    test_loss = 0\n",
    "    correct = 0\n",
    "    with torch.no_grad():\n",
    "        for data, target in test_loader:\n",
    "            data, target = data.to(device), target.to(device)\n",
    "            output = model(data)\n",
    "            test_loss += criterion(output,target,reduction='sum').item()\n",
    "            pred = output.max(1)[1]\n",
    "            correct += pred.eq(target).sum().item()\n",
    "        \n",
    "        test_loss /= len(test_loader.dataset)\n",
    "    \n",
    "        print(f\"\\nTest set: Average Loss:{test_loss:.4f}, Accuracy: {100 * correct / len(test_loader.dataset)}%\")\n",
    "        print('='*50)"
   ]
  },
  {
   "cell_type": "code",
   "execution_count": null,
   "metadata": {
    "colab": {
     "base_uri": "https://localhost:8080/"
    },
    "id": "pzkjKsRHiGwZ",
    "outputId": "274dfe05-941c-4fb1-f44b-d25cf68fc360"
   },
   "outputs": [],
   "source": [
    "for epoch in range(1,num_epochs):\n",
    "    train(model, device, train_loader, optimizer, epoch)\n",
    "    test(model, device, test_loader)"
   ]
  }
 ],
 "metadata": {
  "accelerator": "GPU",
  "colab": {
   "provenance": []
  },
  "gpuClass": "standard",
  "kernelspec": {
   "display_name": "Python 3 (ipykernel)",
   "language": "python",
   "name": "python3"
  },
  "language_info": {
   "codemirror_mode": {
    "name": "ipython",
    "version": 3
   },
   "file_extension": ".py",
   "mimetype": "text/x-python",
   "name": "python",
   "nbconvert_exporter": "python",
   "pygments_lexer": "ipython3",
   "version": "3.9.13"
  }
 },
 "nbformat": 4,
 "nbformat_minor": 1
}
