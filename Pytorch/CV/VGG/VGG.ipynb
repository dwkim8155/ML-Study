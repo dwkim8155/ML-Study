{
  "nbformat": 4,
  "nbformat_minor": 0,
  "metadata": {
    "colab": {
      "provenance": []
    },
    "kernelspec": {
      "name": "python3",
      "display_name": "Python 3"
    },
    "language_info": {
      "name": "python"
    },
    "accelerator": "GPU",
    "gpuClass": "standard",
    "widgets": {
      "application/vnd.jupyter.widget-state+json": {
        "c3d1a9bd32a048c59a9c4cefbbbf623f": {
          "model_module": "@jupyter-widgets/controls",
          "model_name": "HBoxModel",
          "model_module_version": "1.5.0",
          "state": {
            "_dom_classes": [],
            "_model_module": "@jupyter-widgets/controls",
            "_model_module_version": "1.5.0",
            "_model_name": "HBoxModel",
            "_view_count": null,
            "_view_module": "@jupyter-widgets/controls",
            "_view_module_version": "1.5.0",
            "_view_name": "HBoxView",
            "box_style": "",
            "children": [
              "IPY_MODEL_12dbb6f39a374ba791eaa2e98e4b438d",
              "IPY_MODEL_2ef740abe5f3424eaabcc458cf835da9",
              "IPY_MODEL_15ec3365fd3a4235aa341a3a3b9fe43b"
            ],
            "layout": "IPY_MODEL_f8bf0ee3bdb84743b1e64fe0ca01ce2d"
          }
        },
        "12dbb6f39a374ba791eaa2e98e4b438d": {
          "model_module": "@jupyter-widgets/controls",
          "model_name": "HTMLModel",
          "model_module_version": "1.5.0",
          "state": {
            "_dom_classes": [],
            "_model_module": "@jupyter-widgets/controls",
            "_model_module_version": "1.5.0",
            "_model_name": "HTMLModel",
            "_view_count": null,
            "_view_module": "@jupyter-widgets/controls",
            "_view_module_version": "1.5.0",
            "_view_name": "HTMLView",
            "description": "",
            "description_tooltip": null,
            "layout": "IPY_MODEL_b96d561360af4fe09d796248737091c3",
            "placeholder": "​",
            "style": "IPY_MODEL_4858f18e65bd4849beec27120526fab5",
            "value": "100%"
          }
        },
        "2ef740abe5f3424eaabcc458cf835da9": {
          "model_module": "@jupyter-widgets/controls",
          "model_name": "FloatProgressModel",
          "model_module_version": "1.5.0",
          "state": {
            "_dom_classes": [],
            "_model_module": "@jupyter-widgets/controls",
            "_model_module_version": "1.5.0",
            "_model_name": "FloatProgressModel",
            "_view_count": null,
            "_view_module": "@jupyter-widgets/controls",
            "_view_module_version": "1.5.0",
            "_view_name": "ProgressView",
            "bar_style": "success",
            "description": "",
            "description_tooltip": null,
            "layout": "IPY_MODEL_8ff86e80767d479b9c55f4fea9fe99d2",
            "max": 2640397119,
            "min": 0,
            "orientation": "horizontal",
            "style": "IPY_MODEL_875fd40d240942858216268d28451931",
            "value": 2640397119
          }
        },
        "15ec3365fd3a4235aa341a3a3b9fe43b": {
          "model_module": "@jupyter-widgets/controls",
          "model_name": "HTMLModel",
          "model_module_version": "1.5.0",
          "state": {
            "_dom_classes": [],
            "_model_module": "@jupyter-widgets/controls",
            "_model_module_version": "1.5.0",
            "_model_name": "HTMLModel",
            "_view_count": null,
            "_view_module": "@jupyter-widgets/controls",
            "_view_module_version": "1.5.0",
            "_view_name": "HTMLView",
            "description": "",
            "description_tooltip": null,
            "layout": "IPY_MODEL_1091b847ab46440cad5e879550fc0114",
            "placeholder": "​",
            "style": "IPY_MODEL_b7b95a7ab9ac4b58bb940dc3b2eb19fc",
            "value": " 2640397119/2640397119 [15:45&lt;00:00, 6742711.13it/s]"
          }
        },
        "f8bf0ee3bdb84743b1e64fe0ca01ce2d": {
          "model_module": "@jupyter-widgets/base",
          "model_name": "LayoutModel",
          "model_module_version": "1.2.0",
          "state": {
            "_model_module": "@jupyter-widgets/base",
            "_model_module_version": "1.2.0",
            "_model_name": "LayoutModel",
            "_view_count": null,
            "_view_module": "@jupyter-widgets/base",
            "_view_module_version": "1.2.0",
            "_view_name": "LayoutView",
            "align_content": null,
            "align_items": null,
            "align_self": null,
            "border": null,
            "bottom": null,
            "display": null,
            "flex": null,
            "flex_flow": null,
            "grid_area": null,
            "grid_auto_columns": null,
            "grid_auto_flow": null,
            "grid_auto_rows": null,
            "grid_column": null,
            "grid_gap": null,
            "grid_row": null,
            "grid_template_areas": null,
            "grid_template_columns": null,
            "grid_template_rows": null,
            "height": null,
            "justify_content": null,
            "justify_items": null,
            "left": null,
            "margin": null,
            "max_height": null,
            "max_width": null,
            "min_height": null,
            "min_width": null,
            "object_fit": null,
            "object_position": null,
            "order": null,
            "overflow": null,
            "overflow_x": null,
            "overflow_y": null,
            "padding": null,
            "right": null,
            "top": null,
            "visibility": null,
            "width": null
          }
        },
        "b96d561360af4fe09d796248737091c3": {
          "model_module": "@jupyter-widgets/base",
          "model_name": "LayoutModel",
          "model_module_version": "1.2.0",
          "state": {
            "_model_module": "@jupyter-widgets/base",
            "_model_module_version": "1.2.0",
            "_model_name": "LayoutModel",
            "_view_count": null,
            "_view_module": "@jupyter-widgets/base",
            "_view_module_version": "1.2.0",
            "_view_name": "LayoutView",
            "align_content": null,
            "align_items": null,
            "align_self": null,
            "border": null,
            "bottom": null,
            "display": null,
            "flex": null,
            "flex_flow": null,
            "grid_area": null,
            "grid_auto_columns": null,
            "grid_auto_flow": null,
            "grid_auto_rows": null,
            "grid_column": null,
            "grid_gap": null,
            "grid_row": null,
            "grid_template_areas": null,
            "grid_template_columns": null,
            "grid_template_rows": null,
            "height": null,
            "justify_content": null,
            "justify_items": null,
            "left": null,
            "margin": null,
            "max_height": null,
            "max_width": null,
            "min_height": null,
            "min_width": null,
            "object_fit": null,
            "object_position": null,
            "order": null,
            "overflow": null,
            "overflow_x": null,
            "overflow_y": null,
            "padding": null,
            "right": null,
            "top": null,
            "visibility": null,
            "width": null
          }
        },
        "4858f18e65bd4849beec27120526fab5": {
          "model_module": "@jupyter-widgets/controls",
          "model_name": "DescriptionStyleModel",
          "model_module_version": "1.5.0",
          "state": {
            "_model_module": "@jupyter-widgets/controls",
            "_model_module_version": "1.5.0",
            "_model_name": "DescriptionStyleModel",
            "_view_count": null,
            "_view_module": "@jupyter-widgets/base",
            "_view_module_version": "1.2.0",
            "_view_name": "StyleView",
            "description_width": ""
          }
        },
        "8ff86e80767d479b9c55f4fea9fe99d2": {
          "model_module": "@jupyter-widgets/base",
          "model_name": "LayoutModel",
          "model_module_version": "1.2.0",
          "state": {
            "_model_module": "@jupyter-widgets/base",
            "_model_module_version": "1.2.0",
            "_model_name": "LayoutModel",
            "_view_count": null,
            "_view_module": "@jupyter-widgets/base",
            "_view_module_version": "1.2.0",
            "_view_name": "LayoutView",
            "align_content": null,
            "align_items": null,
            "align_self": null,
            "border": null,
            "bottom": null,
            "display": null,
            "flex": null,
            "flex_flow": null,
            "grid_area": null,
            "grid_auto_columns": null,
            "grid_auto_flow": null,
            "grid_auto_rows": null,
            "grid_column": null,
            "grid_gap": null,
            "grid_row": null,
            "grid_template_areas": null,
            "grid_template_columns": null,
            "grid_template_rows": null,
            "height": null,
            "justify_content": null,
            "justify_items": null,
            "left": null,
            "margin": null,
            "max_height": null,
            "max_width": null,
            "min_height": null,
            "min_width": null,
            "object_fit": null,
            "object_position": null,
            "order": null,
            "overflow": null,
            "overflow_x": null,
            "overflow_y": null,
            "padding": null,
            "right": null,
            "top": null,
            "visibility": null,
            "width": null
          }
        },
        "875fd40d240942858216268d28451931": {
          "model_module": "@jupyter-widgets/controls",
          "model_name": "ProgressStyleModel",
          "model_module_version": "1.5.0",
          "state": {
            "_model_module": "@jupyter-widgets/controls",
            "_model_module_version": "1.5.0",
            "_model_name": "ProgressStyleModel",
            "_view_count": null,
            "_view_module": "@jupyter-widgets/base",
            "_view_module_version": "1.2.0",
            "_view_name": "StyleView",
            "bar_color": null,
            "description_width": ""
          }
        },
        "1091b847ab46440cad5e879550fc0114": {
          "model_module": "@jupyter-widgets/base",
          "model_name": "LayoutModel",
          "model_module_version": "1.2.0",
          "state": {
            "_model_module": "@jupyter-widgets/base",
            "_model_module_version": "1.2.0",
            "_model_name": "LayoutModel",
            "_view_count": null,
            "_view_module": "@jupyter-widgets/base",
            "_view_module_version": "1.2.0",
            "_view_name": "LayoutView",
            "align_content": null,
            "align_items": null,
            "align_self": null,
            "border": null,
            "bottom": null,
            "display": null,
            "flex": null,
            "flex_flow": null,
            "grid_area": null,
            "grid_auto_columns": null,
            "grid_auto_flow": null,
            "grid_auto_rows": null,
            "grid_column": null,
            "grid_gap": null,
            "grid_row": null,
            "grid_template_areas": null,
            "grid_template_columns": null,
            "grid_template_rows": null,
            "height": null,
            "justify_content": null,
            "justify_items": null,
            "left": null,
            "margin": null,
            "max_height": null,
            "max_width": null,
            "min_height": null,
            "min_width": null,
            "object_fit": null,
            "object_position": null,
            "order": null,
            "overflow": null,
            "overflow_x": null,
            "overflow_y": null,
            "padding": null,
            "right": null,
            "top": null,
            "visibility": null,
            "width": null
          }
        },
        "b7b95a7ab9ac4b58bb940dc3b2eb19fc": {
          "model_module": "@jupyter-widgets/controls",
          "model_name": "DescriptionStyleModel",
          "model_module_version": "1.5.0",
          "state": {
            "_model_module": "@jupyter-widgets/controls",
            "_model_module_version": "1.5.0",
            "_model_name": "DescriptionStyleModel",
            "_view_count": null,
            "_view_module": "@jupyter-widgets/base",
            "_view_module_version": "1.2.0",
            "_view_name": "StyleView",
            "description_width": ""
          }
        }
      }
    }
  },
  "cells": [
    {
      "cell_type": "markdown",
      "source": [],
      "metadata": {
        "id": "iU1GGrAgsl-g"
      }
    },
    {
      "cell_type": "markdown",
      "source": [
        "##라이브러리 import"
      ],
      "metadata": {
        "id": "zOitcITqsnk4"
      }
    },
    {
      "cell_type": "code",
      "source": [
        "# model\n",
        "import torch\n",
        "import torch.nn as nn\n",
        "import torch.nn.functional as F\n",
        "import torch.optim as optim\n",
        "from torchsummary import summary\n",
        "from torch.optim.lr_scheduler import StepLR\n",
        "\n",
        "# dataset and transfromation\n",
        "from torchvision import datasets, transforms\n",
        "from torch.utils.data import DataLoader\n",
        "import os\n",
        "\n",
        "#display images\n",
        "from torchvision import utils\n",
        "import matplotlib.pyplot as plt\n",
        "\n",
        "#utils\n",
        "import numpy as np\n",
        "import time\n",
        "import copy\n",
        "\n"
      ],
      "metadata": {
        "id": "CATgwt2Vsk09"
      },
      "execution_count": 1,
      "outputs": []
    },
    {
      "cell_type": "code",
      "source": [
        "#Hyperparameters\n",
        "batch_size = 20\n",
        "num_epochs = 50\n",
        "\n",
        "#classes dict\n",
        "img_class = {0:'airplane', \n",
        "             1:'bird', \n",
        "             2:'car', \n",
        "             3:'cat', \n",
        "             4:'deer', \n",
        "             5:'dog', \n",
        "             6:'horse', \n",
        "             7:'monkey', \n",
        "             8:'ship', \n",
        "             9:'truck'}\n",
        "\n",
        "#device 설정\n",
        "device = ('cuda' if torch.cuda.is_available() else 'cpu')\n",
        "print(device)"
      ],
      "metadata": {
        "colab": {
          "base_uri": "https://localhost:8080/"
        },
        "id": "Xp0lfCXbZBT6",
        "outputId": "f3346e72-790e-48f2-f803-7b9f58b76113"
      },
      "execution_count": 3,
      "outputs": [
        {
          "output_type": "stream",
          "name": "stdout",
          "text": [
            "cuda\n"
          ]
        }
      ]
    },
    {
      "cell_type": "markdown",
      "source": [
        "##데이터셋"
      ],
      "metadata": {
        "id": "GgpZPJ7Vtw2e"
      }
    },
    {
      "cell_type": "code",
      "source": [
        "# 데이터 다운받을 경로 설정 \n",
        "path2data = '/content/data'\n",
        "\n",
        "# 폴더가 존재하지 않을 시 폴더 생성\n",
        "if not os.path.exists(path2data):\n",
        "    os.mkdir(path2data)\n",
        "\n",
        "# 데이터 로드\n",
        "train_data = datasets.STL10(root=path2data, split='train', download=True, \n",
        "                            transform=transforms.ToTensor())\n",
        "test_data = datasets.STL10(root=path2data, split='test', download=True, \n",
        "                            transform=transforms.ToTensor())"
      ],
      "metadata": {
        "colab": {
          "base_uri": "https://localhost:8080/",
          "height": 123,
          "referenced_widgets": [
            "c3d1a9bd32a048c59a9c4cefbbbf623f",
            "12dbb6f39a374ba791eaa2e98e4b438d",
            "2ef740abe5f3424eaabcc458cf835da9",
            "15ec3365fd3a4235aa341a3a3b9fe43b",
            "f8bf0ee3bdb84743b1e64fe0ca01ce2d",
            "b96d561360af4fe09d796248737091c3",
            "4858f18e65bd4849beec27120526fab5",
            "8ff86e80767d479b9c55f4fea9fe99d2",
            "875fd40d240942858216268d28451931",
            "1091b847ab46440cad5e879550fc0114",
            "b7b95a7ab9ac4b58bb940dc3b2eb19fc"
          ]
        },
        "id": "087kE93mtz7J",
        "outputId": "5b69641c-67a9-48bb-ad42-03c59e4a7316"
      },
      "execution_count": 4,
      "outputs": [
        {
          "output_type": "stream",
          "name": "stdout",
          "text": [
            "Downloading http://ai.stanford.edu/~acoates/stl10/stl10_binary.tar.gz to /content/data/stl10_binary.tar.gz\n"
          ]
        },
        {
          "output_type": "display_data",
          "data": {
            "text/plain": [
              "  0%|          | 0/2640397119 [00:00<?, ?it/s]"
            ],
            "application/vnd.jupyter.widget-view+json": {
              "version_major": 2,
              "version_minor": 0,
              "model_id": "c3d1a9bd32a048c59a9c4cefbbbf623f"
            }
          },
          "metadata": {}
        },
        {
          "output_type": "stream",
          "name": "stdout",
          "text": [
            "Extracting /content/data/stl10_binary.tar.gz to /content/data\n",
            "Files already downloaded and verified\n"
          ]
        }
      ]
    },
    {
      "cell_type": "code",
      "source": [
        "print(len(train_data), train_data[0][0].shape)\n",
        "print(len(test_data), test_data[0][0].shape)"
      ],
      "metadata": {
        "colab": {
          "base_uri": "https://localhost:8080/"
        },
        "id": "XGLBdWJZzURJ",
        "outputId": "6a59b2b5-14fc-46d3-ba68-0b34da010e0d"
      },
      "execution_count": 5,
      "outputs": [
        {
          "output_type": "stream",
          "name": "stdout",
          "text": [
            "5000 torch.Size([3, 96, 96])\n",
            "8000 torch.Size([3, 96, 96])\n"
          ]
        }
      ]
    },
    {
      "cell_type": "code",
      "source": [
        "train_data.labels"
      ],
      "metadata": {
        "colab": {
          "base_uri": "https://localhost:8080/"
        },
        "id": "duypy-QJJFMc",
        "outputId": "d07b814e-09fe-4d98-8f37-e8dd40461ad8"
      },
      "execution_count": 6,
      "outputs": [
        {
          "output_type": "execute_result",
          "data": {
            "text/plain": [
              "array([1, 5, 1, ..., 1, 7, 5], dtype=uint8)"
            ]
          },
          "metadata": {},
          "execution_count": 6
        }
      ]
    },
    {
      "cell_type": "code",
      "source": [
        "# RGB 정규화 -> 평균과 표춘편차 구하기\n",
        "train_meanRGB = [np.mean(x.numpy(), axis=(1,2)) for x,_ in train_data]\n",
        "train_stdRGB = [np.std(x.numpy(), axis=(1,2)) for x,_ in train_data]\n",
        "\n",
        "train_meanR = np.mean([m[0] for m in train_meanRGB])\n",
        "train_meanG = np.mean([m[1] for m in train_meanRGB])\n",
        "train_meanB = np.mean([m[2] for m in train_meanRGB])\n",
        "train_stdR = np.mean([s[0] for s in train_stdRGB])\n",
        "train_stdG = np.mean([s[1] for s in train_stdRGB])\n",
        "train_stdB = np.mean([s[2] for s in train_stdRGB])\n",
        "\n",
        "\n",
        "test_meanRGB = [np.mean(x.numpy(), axis=(1,2)) for x,_ in test_data]\n",
        "test_stdRGB = [np.std(x.numpy(), axis=(1,2)) for x,_ in test_data]\n",
        "\n",
        "test_meanR = np.mean([m[0] for m in test_meanRGB])\n",
        "test_meanG = np.mean([m[1] for m in test_meanRGB])\n",
        "test_meanB = np.mean([m[2] for m in test_meanRGB])\n",
        "test_stdR = np.mean([s[0] for s in test_stdRGB])\n",
        "test_stdG = np.mean([s[1] for s in test_stdRGB])\n",
        "test_stdB = np.mean([s[2] for s in test_stdRGB])\n",
        "\n",
        "print((train_meanR, train_meanG, train_meanB), \n",
        "      (train_stdR, train_stdG, train_stdB))\n",
        "print((test_meanR, test_meanG, test_meanB), \n",
        "      (test_stdR, test_stdG, test_stdB))"
      ],
      "metadata": {
        "colab": {
          "base_uri": "https://localhost:8080/"
        },
        "id": "7UMXIdFnvO7g",
        "outputId": "3cd7c687-56e5-4944-c5e2-212e75e0def2"
      },
      "execution_count": 7,
      "outputs": [
        {
          "output_type": "stream",
          "name": "stdout",
          "text": [
            "(0.4467106, 0.43980986, 0.40664646) (0.22414584, 0.22148906, 0.22389975)\n",
            "(0.44723064, 0.4396425, 0.40495726) (0.22489566, 0.22172786, 0.22369827)\n"
          ]
        }
      ]
    },
    {
      "cell_type": "markdown",
      "source": [
        "## Transform 객체 생성"
      ],
      "metadata": {
        "id": "wjExy6u_vRLU"
      }
    },
    {
      "cell_type": "code",
      "source": [
        "# crop, horiziontal, nornalize 사용\n",
        "train_transformer = transforms.Compose([\n",
        "        transforms.RandomResizedCrop(size=224),\n",
        "        transforms.RandomHorizontalFlip(),\n",
        "        transforms.ToTensor(),\n",
        "        transforms.Normalize(mean=(train_meanR, train_meanG, train_meanB), \n",
        "                             std=(train_stdR, train_stdG, train_stdB))\n",
        "])\n",
        "\n",
        "test_transformer = transforms.Compose([\n",
        "        transforms.RandomResizedCrop(size=224),\n",
        "        transforms.RandomHorizontalFlip(),\n",
        "        transforms.ToTensor(),\n",
        "        transforms.Normalize(mean=(test_meanR, test_meanG, test_meanB), \n",
        "                             std=(test_stdR, test_stdG, test_stdB))\n",
        "])\n",
        "\n",
        "#transform 객체 적용\n",
        "train_data.transform = train_transformer\n",
        "test_data.transform = test_transformer"
      ],
      "metadata": {
        "id": "ZoQjvHjNurcQ"
      },
      "execution_count": 8,
      "outputs": []
    },
    {
      "cell_type": "code",
      "source": [
        "#transformer 적용 확인\n",
        "print(train_data.transform)\n",
        "print(test_data.transform)\n",
        "\n",
        "# 사이즈 변경 확인\n",
        "print(train_data[0][0].shape)\n",
        "print(test_data[0][0].shape)"
      ],
      "metadata": {
        "colab": {
          "base_uri": "https://localhost:8080/"
        },
        "id": "bcyz101kt3Wk",
        "outputId": "7beb1c58-1198-482e-bae1-56fc85267b9b"
      },
      "execution_count": 9,
      "outputs": [
        {
          "output_type": "stream",
          "name": "stdout",
          "text": [
            "Compose(\n",
            "    RandomResizedCrop(size=(224, 224), scale=(0.08, 1.0), ratio=(0.75, 1.3333), interpolation=bilinear), antialias=None)\n",
            "    RandomHorizontalFlip(p=0.5)\n",
            "    ToTensor()\n",
            "    Normalize(mean=(0.4467106, 0.43980986, 0.40664646), std=(0.22414584, 0.22148906, 0.22389975))\n",
            ")\n",
            "Compose(\n",
            "    RandomResizedCrop(size=(224, 224), scale=(0.08, 1.0), ratio=(0.75, 1.3333), interpolation=bilinear), antialias=None)\n",
            "    RandomHorizontalFlip(p=0.5)\n",
            "    ToTensor()\n",
            "    Normalize(mean=(0.44723064, 0.4396425, 0.40495726), std=(0.22489566, 0.22172786, 0.22369827))\n",
            ")\n",
            "torch.Size([3, 224, 224])\n",
            "torch.Size([3, 224, 224])\n"
          ]
        }
      ]
    },
    {
      "cell_type": "code",
      "source": [
        "# 사이즈 변경 확인\n",
        "print(train_data[0][0].shape)\n",
        "print(test_data[0][0].shape)"
      ],
      "metadata": {
        "colab": {
          "base_uri": "https://localhost:8080/"
        },
        "id": "SqHimHhcELbt",
        "outputId": "b14cb05c-3c5e-4d24-e2e6-7c5a73c5f710"
      },
      "execution_count": 10,
      "outputs": [
        {
          "output_type": "stream",
          "name": "stdout",
          "text": [
            "torch.Size([3, 224, 224])\n",
            "torch.Size([3, 224, 224])\n"
          ]
        }
      ]
    },
    {
      "cell_type": "markdown",
      "source": [
        "##이미지 시각화"
      ],
      "metadata": {
        "id": "qMZnETcHE8qT"
      }
    },
    {
      "cell_type": "code",
      "source": [
        "#이미지 시각화 함수\n",
        "\n",
        "def show(img):\n",
        "    npimg = img.numpy()\n",
        "    npimg_t = np.transpose(npimg, (1,2,0))\n",
        "    plt.imshow(npimg_t)\n",
        "\n",
        "#랜덤 이미지 고르기\n",
        "rnd_idx = int(np.random.randint(0,len(train_data)-1,1))\n",
        "img, label = train_data[rnd_idx]\n",
        "plt.figure(figsize=(5,5))\n",
        "plt.title(img_class[label])\n",
        "show(img)"
      ],
      "metadata": {
        "colab": {
          "base_uri": "https://localhost:8080/",
          "height": 374
        },
        "id": "8ftE3hyOEkSX",
        "outputId": "a5eaa160-934a-4947-d79a-1d4d068473fa"
      },
      "execution_count": 11,
      "outputs": [
        {
          "output_type": "stream",
          "name": "stderr",
          "text": [
            "WARNING:matplotlib.image:Clipping input data to the valid range for imshow with RGB data ([0..1] for floats or [0..255] for integers).\n"
          ]
        },
        {
          "output_type": "display_data",
          "data": {
            "text/plain": [
              "<Figure size 360x360 with 1 Axes>"
            ],
            "image/png": "[encoded data removed]"
          },
          "metadata": {
            "needs_background": "light"
          }
        }
      ]
    },
    {
      "cell_type": "code",
      "source": [
        "#dataloader 생성\n",
        "train_loader = DataLoader(train_data, batch_size=20, shuffle=True)\n",
        "test_loader = DataLoader(test_data, batch_size=20, shuffle=True)"
      ],
      "metadata": {
        "id": "QJ71-I1sHTET"
      },
      "execution_count": 12,
      "outputs": []
    },
    {
      "cell_type": "code",
      "source": [
        "next(iter(train_loader))[0].shape"
      ],
      "metadata": {
        "colab": {
          "base_uri": "https://localhost:8080/"
        },
        "id": "fXZO-yDzNm8b",
        "outputId": "70a5e3e0-2717-43d0-c80c-5db61e96d965"
      },
      "execution_count": 13,
      "outputs": [
        {
          "output_type": "execute_result",
          "data": {
            "text/plain": [
              "torch.Size([20, 3, 224, 224])"
            ]
          },
          "metadata": {},
          "execution_count": 13
        }
      ]
    },
    {
      "cell_type": "markdown",
      "source": [
        "##모델 생성"
      ],
      "metadata": {
        "id": "8ivZ-9JDQBnL"
      }
    },
    {
      "cell_type": "code",
      "source": [
        "# 모델 별 cfg 작성 \n",
        "cfg = {\n",
        "    'VGG11': [64, 'M', 128, 'M', 256, 256, 'M', 512, 512, 'M', 512, 512, 'M'],\n",
        "    'VGG13': [64, 64, 'M', 128, 128, 'M', 256, 256, 'M', 512, 512, 'M', 512, 512, 'M'],\n",
        "    'VGG16': [64, 64, 'M', 128, 128, 'M', 256, 256, 256, 'M', 512, 512, 512, 'M', 512, 512, 512, 'M'],\n",
        "    'VGG19': [64, 64, 'M', 128, 128, 'M', 256, 256, 256, 256, 'M', 512, 512, 512, 512, 'M', 512, 512, 512, 512, 'M'],\n",
        "}\n",
        "\n",
        "#model\n",
        "class VGGNet(nn.Module):\n",
        "    def __init__(self, vgg_name, in_channels=3, num_classes=10, \n",
        "                 init_weights=True):\n",
        "        super().__init__()\n",
        "        self.in_channels = in_channels\n",
        "        self.vgg_name = vgg_name\n",
        "        self.num_classes = num_classes\n",
        "        self.conv_layers = self._make_layers(cfg[vgg_name])\n",
        "        self.classifier = nn.Sequential(\n",
        "            nn.Linear(512*7*7, 4096),\n",
        "            nn.ReLU(),\n",
        "            nn.Dropout(),\n",
        "            nn.Linear(4096, 4096),\n",
        "            nn.ReLU(),\n",
        "            nn.Dropout(),\n",
        "            nn.Linear(4096, num_classes)\n",
        "        )\n",
        "\n",
        "        if init_weights:\n",
        "            self._initializer_weights()\n",
        "        \n",
        "    def forward(self, x):\n",
        "        out = self.conv_layers(x)\n",
        "        out = out.view(out.size(0),-1)\n",
        "        out = self.classifier(out)\n",
        "        return F.log_softmax(out, dim=1)\n",
        "        \n",
        "    def _initializer_weights(self):\n",
        "        for m in self.modules():\n",
        "            if isinstance(m, nn.Conv2d):\n",
        "                nn.init.kaiming_normal_(m.weight, mode= 'fan_out', \n",
        "                                            nonlinearity='relu')\n",
        "                if m.bias is not None:\n",
        "                    nn.init.constant_(m.bias,0)\n",
        "            elif isinstance(m, nn.BatchNorm2d):\n",
        "                nn.init.constant_(m.weight, 1)\n",
        "                nn.init.constant_(m.bias, 0)\n",
        "            elif isinstance(m, nn.Linear):\n",
        "                nn.init.normal_(m.weight, 0, 0.01)\n",
        "                nn.init.constant_(m.bias,0)\n",
        "\n",
        "\n",
        "    def _make_layers(self, cfg):\n",
        "        layers=[]\n",
        "        in_channels = self.in_channels\n",
        "        for layer in cfg:\n",
        "            if layer == 'M':\n",
        "                layers += [nn.MaxPool2d(kernel_size=2, stride=2)]\n",
        "            else:\n",
        "                layers += [nn.Conv2d(in_channels = in_channels, \n",
        "                out_channels=layer ,kernel_size=(3,3),stride =1, padding=1),\n",
        "                               nn.BatchNorm2d(layer),\n",
        "                               nn.ReLU()\n",
        "                               ]\n",
        "                in_channels = layer\n",
        "        return nn.Sequential(*layers)"
      ],
      "metadata": {
        "id": "yFtOEVcUNpqe"
      },
      "execution_count": 14,
      "outputs": []
    },
    {
      "cell_type": "markdown",
      "source": [
        "##모델 설정"
      ],
      "metadata": {
        "id": "6n2fDv01VlBl"
      }
    },
    {
      "cell_type": "code",
      "source": [
        "model = VGGNet('VGG16').to(device)\n",
        "criterion = F.nll_loss\n",
        "optimizer = optim.SGD(model.parameters(), lr= 0.001, momentum=0.9)"
      ],
      "metadata": {
        "id": "JF_qsMfMJ-5g"
      },
      "execution_count": 20,
      "outputs": []
    },
    {
      "cell_type": "code",
      "source": [
        "summary(model, (3,224,224), batch_size=20, device=device)"
      ],
      "metadata": {
        "colab": {
          "base_uri": "https://localhost:8080/"
        },
        "id": "wjMyVl-TLlNA",
        "outputId": "93c527ae-29ee-4277-c7cf-851c44e8284c"
      },
      "execution_count": 21,
      "outputs": [
        {
          "output_type": "stream",
          "name": "stdout",
          "text": [
            "----------------------------------------------------------------\n",
            "        Layer (type)               Output Shape         Param #\n",
            "================================================================\n",
            "            Conv2d-1         [20, 64, 224, 224]           1,792\n",
            "       BatchNorm2d-2         [20, 64, 224, 224]             128\n",
            "              ReLU-3         [20, 64, 224, 224]               0\n",
            "            Conv2d-4         [20, 64, 224, 224]          36,928\n",
            "       BatchNorm2d-5         [20, 64, 224, 224]             128\n",
            "              ReLU-6         [20, 64, 224, 224]               0\n",
            "         MaxPool2d-7         [20, 64, 112, 112]               0\n",
            "            Conv2d-8        [20, 128, 112, 112]          73,856\n",
            "       BatchNorm2d-9        [20, 128, 112, 112]             256\n",
            "             ReLU-10        [20, 128, 112, 112]               0\n",
            "           Conv2d-11        [20, 128, 112, 112]         147,584\n",
            "      BatchNorm2d-12        [20, 128, 112, 112]             256\n",
            "             ReLU-13        [20, 128, 112, 112]               0\n",
            "        MaxPool2d-14          [20, 128, 56, 56]               0\n",
            "           Conv2d-15          [20, 256, 56, 56]         295,168\n",
            "      BatchNorm2d-16          [20, 256, 56, 56]             512\n",
            "             ReLU-17          [20, 256, 56, 56]               0\n",
            "           Conv2d-18          [20, 256, 56, 56]         590,080\n",
            "      BatchNorm2d-19          [20, 256, 56, 56]             512\n",
            "             ReLU-20          [20, 256, 56, 56]               0\n",
            "           Conv2d-21          [20, 256, 56, 56]         590,080\n",
            "      BatchNorm2d-22          [20, 256, 56, 56]             512\n",
            "             ReLU-23          [20, 256, 56, 56]               0\n",
            "        MaxPool2d-24          [20, 256, 28, 28]               0\n",
            "           Conv2d-25          [20, 512, 28, 28]       1,180,160\n",
            "      BatchNorm2d-26          [20, 512, 28, 28]           1,024\n",
            "             ReLU-27          [20, 512, 28, 28]               0\n",
            "           Conv2d-28          [20, 512, 28, 28]       2,359,808\n",
            "      BatchNorm2d-29          [20, 512, 28, 28]           1,024\n",
            "             ReLU-30          [20, 512, 28, 28]               0\n",
            "           Conv2d-31          [20, 512, 28, 28]       2,359,808\n",
            "      BatchNorm2d-32          [20, 512, 28, 28]           1,024\n",
            "             ReLU-33          [20, 512, 28, 28]               0\n",
            "        MaxPool2d-34          [20, 512, 14, 14]               0\n",
            "           Conv2d-35          [20, 512, 14, 14]       2,359,808\n",
            "      BatchNorm2d-36          [20, 512, 14, 14]           1,024\n",
            "             ReLU-37          [20, 512, 14, 14]               0\n",
            "           Conv2d-38          [20, 512, 14, 14]       2,359,808\n",
            "      BatchNorm2d-39          [20, 512, 14, 14]           1,024\n",
            "             ReLU-40          [20, 512, 14, 14]               0\n",
            "           Conv2d-41          [20, 512, 14, 14]       2,359,808\n",
            "      BatchNorm2d-42          [20, 512, 14, 14]           1,024\n",
            "             ReLU-43          [20, 512, 14, 14]               0\n",
            "        MaxPool2d-44            [20, 512, 7, 7]               0\n",
            "           Linear-45                 [20, 4096]     102,764,544\n",
            "             ReLU-46                 [20, 4096]               0\n",
            "          Dropout-47                 [20, 4096]               0\n",
            "           Linear-48                 [20, 4096]      16,781,312\n",
            "             ReLU-49                 [20, 4096]               0\n",
            "          Dropout-50                 [20, 4096]               0\n",
            "           Linear-51                   [20, 10]          40,970\n",
            "================================================================\n",
            "Total params: 134,309,962\n",
            "Trainable params: 134,309,962\n",
            "Non-trainable params: 0\n",
            "----------------------------------------------------------------\n",
            "Input size (MB): 11.48\n",
            "Forward/backward pass size (MB): 6438.83\n",
            "Params size (MB): 512.35\n",
            "Estimated Total Size (MB): 6962.67\n",
            "----------------------------------------------------------------\n"
          ]
        }
      ]
    },
    {
      "cell_type": "markdown",
      "source": [
        "## Train & Test"
      ],
      "metadata": {
        "id": "uICopmOOWnk3"
      }
    },
    {
      "cell_type": "code",
      "source": [
        "def train(model, device, train_loader, optimizer, epoch):\n",
        "    model.train()\n",
        "    for batch_idx, (data,target) in enumerate(train_loader):\n",
        "        data, target = data.to(device), target.to(device)\n",
        "        output = model(data)\n",
        "        loss = criterion(output, target)\n",
        "        optimizer.zero_grad()\n",
        "        loss.backward()\n",
        "        optimizer.step()\n",
        "\n",
        "        if (batch_idx+1)%50 == 0:\n",
        "            print(f'Train Epoch: {epoch} ({100*(batch_idx+1)*batch_size/len(train_loader.dataset):.0f})%',\n",
        "                  f'Loss: {loss}')\n"
      ],
      "metadata": {
        "id": "Vwyqu1bcQr_1"
      },
      "execution_count": 22,
      "outputs": []
    },
    {
      "cell_type": "code",
      "source": [
        "def test(model, device, test_loader):\n",
        "    model.eval()\n",
        "    test_loss=0\n",
        "    correct=0\n",
        "    with torch.no_grad():\n",
        "        for data, target in test_loader:\n",
        "            data, target = data.to(device), target.to(device)\n",
        "            output = model(data)\n",
        "            test_loss += criterion(output, target, reduction='sum')\n",
        "            pred = output.max(1)[1]\n",
        "            correct += pred.eq(target).sum().item()\n",
        "        \n",
        "        test_loss /= len(test_loader.dataset)\n",
        "        print(f\"\\nTest set: Average Loss:{test_loss:.4f}, Accuracy: {100 * correct / len(test_loader.dataset)}%\\n\")\n",
        "        print('='*50)"
      ],
      "metadata": {
        "id": "uPFSYLLVZ4Z_"
      },
      "execution_count": 23,
      "outputs": []
    },
    {
      "cell_type": "markdown",
      "source": [
        "##학습"
      ],
      "metadata": {
        "id": "Gc5S5svpbRmT"
      }
    },
    {
      "cell_type": "code",
      "source": [
        "for epoch in range(1,num_epochs+1):\n",
        "    train(model, device, train_loader, optimizer, epoch)\n",
        "    test(model, device, test_loader)"
      ],
      "metadata": {
        "colab": {
          "base_uri": "https://localhost:8080/"
        },
        "id": "ybSndlqCbOeT",
        "outputId": "a4ace2dd-5a24-4fc5-91bd-3188ad5aef8f"
      },
      "execution_count": null,
      "outputs": [
        {
          "output_type": "stream",
          "name": "stdout",
          "text": [
            "Train Epoch: 1 (20)% Loss: 2.6222150325775146\n",
            "Train Epoch: 1 (40)% Loss: 2.3139305114746094\n",
            "Train Epoch: 1 (60)% Loss: 2.0287160873413086\n",
            "Train Epoch: 1 (80)% Loss: 1.8964837789535522\n",
            "Train Epoch: 1 (100)% Loss: 1.9671785831451416\n",
            "\n",
            "Test set: Average Loss:1.8639, Accuracy: 28.7625%\n",
            "\n",
            "==================================================\n",
            "Train Epoch: 2 (20)% Loss: 1.6644599437713623\n",
            "Train Epoch: 2 (40)% Loss: 2.0938363075256348\n",
            "Train Epoch: 2 (60)% Loss: 1.9729335308074951\n",
            "Train Epoch: 2 (80)% Loss: 2.1679577827453613\n",
            "Train Epoch: 2 (100)% Loss: 2.2326509952545166\n",
            "\n",
            "Test set: Average Loss:1.7700, Accuracy: 29.1375%\n",
            "\n",
            "==================================================\n",
            "Train Epoch: 3 (20)% Loss: 2.231666326522827\n",
            "Train Epoch: 3 (40)% Loss: 1.9516541957855225\n",
            "Train Epoch: 3 (60)% Loss: 2.1069345474243164\n",
            "Train Epoch: 3 (80)% Loss: 1.9436776638031006\n",
            "Train Epoch: 3 (100)% Loss: 1.890378713607788\n",
            "\n",
            "Test set: Average Loss:1.7333, Accuracy: 32.3625%\n",
            "\n",
            "==================================================\n",
            "Train Epoch: 4 (20)% Loss: 1.9176244735717773\n",
            "Train Epoch: 4 (40)% Loss: 1.769989252090454\n",
            "Train Epoch: 4 (60)% Loss: 1.8196672201156616\n",
            "Train Epoch: 4 (80)% Loss: 1.7319705486297607\n",
            "Train Epoch: 4 (100)% Loss: 2.067983627319336\n",
            "\n",
            "Test set: Average Loss:1.6787, Accuracy: 34.7%\n",
            "\n",
            "==================================================\n",
            "Train Epoch: 5 (20)% Loss: 1.4700721502304077\n",
            "Train Epoch: 5 (40)% Loss: 2.3093581199645996\n",
            "Train Epoch: 5 (60)% Loss: 1.5442726612091064\n",
            "Train Epoch: 5 (80)% Loss: 1.889931082725525\n",
            "Train Epoch: 5 (100)% Loss: 1.8277502059936523\n",
            "\n",
            "Test set: Average Loss:1.6409, Accuracy: 37.3625%\n",
            "\n",
            "==================================================\n",
            "Train Epoch: 6 (20)% Loss: 2.2383580207824707\n",
            "Train Epoch: 6 (40)% Loss: 1.7428010702133179\n",
            "Train Epoch: 6 (60)% Loss: 1.4721790552139282\n",
            "Train Epoch: 6 (80)% Loss: 1.2643187046051025\n",
            "Train Epoch: 6 (100)% Loss: 1.656768560409546\n",
            "\n",
            "Test set: Average Loss:1.6813, Accuracy: 34.8625%\n",
            "\n",
            "==================================================\n",
            "Train Epoch: 7 (20)% Loss: 1.637773871421814\n",
            "Train Epoch: 7 (40)% Loss: 1.423243522644043\n",
            "Train Epoch: 7 (60)% Loss: 1.8824052810668945\n",
            "Train Epoch: 7 (80)% Loss: 1.9933068752288818\n",
            "Train Epoch: 7 (100)% Loss: 1.4654439687728882\n",
            "\n",
            "Test set: Average Loss:1.6075, Accuracy: 38.95%\n",
            "\n",
            "==================================================\n",
            "Train Epoch: 8 (20)% Loss: 1.7112382650375366\n",
            "Train Epoch: 8 (40)% Loss: 1.8110246658325195\n",
            "Train Epoch: 8 (60)% Loss: 1.5588029623031616\n",
            "Train Epoch: 8 (80)% Loss: 1.9746500253677368\n",
            "Train Epoch: 8 (100)% Loss: 1.9373750686645508\n",
            "\n",
            "Test set: Average Loss:1.6074, Accuracy: 39.8625%\n",
            "\n",
            "==================================================\n",
            "Train Epoch: 9 (20)% Loss: 1.2229641675949097\n",
            "Train Epoch: 9 (40)% Loss: 2.080167293548584\n",
            "Train Epoch: 9 (60)% Loss: 1.6488449573516846\n",
            "Train Epoch: 9 (80)% Loss: 1.7169080972671509\n",
            "Train Epoch: 9 (100)% Loss: 1.6973079442977905\n",
            "\n",
            "Test set: Average Loss:1.5808, Accuracy: 40.1375%\n",
            "\n",
            "==================================================\n",
            "Train Epoch: 10 (20)% Loss: 1.5572903156280518\n",
            "Train Epoch: 10 (40)% Loss: 2.1281914710998535\n",
            "Train Epoch: 10 (60)% Loss: 1.3933303356170654\n",
            "Train Epoch: 10 (80)% Loss: 1.4788665771484375\n",
            "Train Epoch: 10 (100)% Loss: 1.9963047504425049\n",
            "\n",
            "Test set: Average Loss:1.5636, Accuracy: 41.0875%\n",
            "\n",
            "==================================================\n",
            "Train Epoch: 11 (20)% Loss: 1.4014633893966675\n",
            "Train Epoch: 11 (40)% Loss: 2.0607972145080566\n",
            "Train Epoch: 11 (60)% Loss: 1.5600917339324951\n",
            "Train Epoch: 11 (80)% Loss: 1.7424476146697998\n",
            "Train Epoch: 11 (100)% Loss: 1.3935480117797852\n",
            "\n",
            "Test set: Average Loss:1.5522, Accuracy: 41.425%\n",
            "\n",
            "==================================================\n",
            "Train Epoch: 12 (20)% Loss: 1.6994760036468506\n",
            "Train Epoch: 12 (40)% Loss: 1.8967491388320923\n",
            "Train Epoch: 12 (60)% Loss: 1.7608397006988525\n",
            "Train Epoch: 12 (80)% Loss: 1.3706804513931274\n",
            "Train Epoch: 12 (100)% Loss: 1.5154584646224976\n",
            "\n",
            "Test set: Average Loss:1.5077, Accuracy: 44.5875%\n",
            "\n",
            "==================================================\n",
            "Train Epoch: 13 (20)% Loss: 1.486142873764038\n",
            "Train Epoch: 13 (40)% Loss: 1.3185670375823975\n",
            "Train Epoch: 13 (60)% Loss: 1.4394102096557617\n",
            "Train Epoch: 13 (80)% Loss: 1.2688815593719482\n",
            "Train Epoch: 13 (100)% Loss: 1.789674997329712\n",
            "\n",
            "Test set: Average Loss:1.5906, Accuracy: 40.9875%\n",
            "\n",
            "==================================================\n",
            "Train Epoch: 14 (20)% Loss: 1.7395826578140259\n",
            "Train Epoch: 14 (40)% Loss: 1.2463579177856445\n",
            "Train Epoch: 14 (60)% Loss: 1.3069220781326294\n",
            "Train Epoch: 14 (80)% Loss: 1.7455854415893555\n",
            "Train Epoch: 14 (100)% Loss: 1.682178258895874\n",
            "\n",
            "Test set: Average Loss:1.4282, Accuracy: 47.1375%\n",
            "\n",
            "==================================================\n",
            "Train Epoch: 15 (20)% Loss: 1.5043500661849976\n",
            "Train Epoch: 15 (40)% Loss: 1.955566644668579\n",
            "Train Epoch: 15 (60)% Loss: 1.241766333580017\n",
            "Train Epoch: 15 (80)% Loss: 1.6450350284576416\n",
            "Train Epoch: 15 (100)% Loss: 1.7435672283172607\n",
            "\n",
            "Test set: Average Loss:1.4513, Accuracy: 44.5125%\n",
            "\n",
            "==================================================\n",
            "Train Epoch: 16 (20)% Loss: 1.7522499561309814\n",
            "Train Epoch: 16 (40)% Loss: 1.3099021911621094\n",
            "Train Epoch: 16 (60)% Loss: 1.1943140029907227\n",
            "Train Epoch: 16 (80)% Loss: 1.5377622842788696\n",
            "Train Epoch: 16 (100)% Loss: 1.3938957452774048\n",
            "\n",
            "Test set: Average Loss:1.4521, Accuracy: 45.2375%\n",
            "\n",
            "==================================================\n",
            "Train Epoch: 17 (20)% Loss: 1.183048963546753\n",
            "Train Epoch: 17 (40)% Loss: 1.3491424322128296\n",
            "Train Epoch: 17 (60)% Loss: 1.4042418003082275\n",
            "Train Epoch: 17 (80)% Loss: 1.6316934823989868\n",
            "Train Epoch: 17 (100)% Loss: 1.5019277334213257\n",
            "\n",
            "Test set: Average Loss:1.4219, Accuracy: 48.2625%\n",
            "\n",
            "==================================================\n",
            "Train Epoch: 18 (20)% Loss: 1.2390884160995483\n",
            "Train Epoch: 18 (40)% Loss: 1.4098695516586304\n",
            "Train Epoch: 18 (60)% Loss: 2.059337854385376\n",
            "Train Epoch: 18 (80)% Loss: 1.5003995895385742\n",
            "Train Epoch: 18 (100)% Loss: 1.5944006443023682\n",
            "\n",
            "Test set: Average Loss:1.4251, Accuracy: 46.425%\n",
            "\n",
            "==================================================\n",
            "Train Epoch: 19 (20)% Loss: 1.1473339796066284\n",
            "Train Epoch: 19 (40)% Loss: 1.2728979587554932\n",
            "Train Epoch: 19 (60)% Loss: 1.3800244331359863\n",
            "Train Epoch: 19 (80)% Loss: 1.4997053146362305\n",
            "Train Epoch: 19 (100)% Loss: 1.3672974109649658\n",
            "\n",
            "Test set: Average Loss:1.3737, Accuracy: 49.2625%\n",
            "\n",
            "==================================================\n",
            "Train Epoch: 20 (20)% Loss: 1.577906608581543\n",
            "Train Epoch: 20 (40)% Loss: 1.2311389446258545\n",
            "Train Epoch: 20 (60)% Loss: 1.2807830572128296\n",
            "Train Epoch: 20 (80)% Loss: 1.6504976749420166\n",
            "Train Epoch: 20 (100)% Loss: 1.2258292436599731\n",
            "\n",
            "Test set: Average Loss:1.4470, Accuracy: 46.2125%\n",
            "\n",
            "==================================================\n",
            "Train Epoch: 21 (20)% Loss: 1.1483826637268066\n",
            "Train Epoch: 21 (40)% Loss: 1.3105926513671875\n",
            "Train Epoch: 21 (60)% Loss: 1.2435557842254639\n",
            "Train Epoch: 21 (80)% Loss: 1.229937195777893\n",
            "Train Epoch: 21 (100)% Loss: 1.2376682758331299\n",
            "\n",
            "Test set: Average Loss:1.3481, Accuracy: 50.6875%\n",
            "\n",
            "==================================================\n",
            "Train Epoch: 22 (20)% Loss: 1.0632538795471191\n",
            "Train Epoch: 22 (40)% Loss: 1.1424477100372314\n",
            "Train Epoch: 22 (60)% Loss: 1.3220033645629883\n",
            "Train Epoch: 22 (80)% Loss: 1.2523585557937622\n",
            "Train Epoch: 22 (100)% Loss: 1.28404700756073\n",
            "\n",
            "Test set: Average Loss:1.4091, Accuracy: 48.1375%\n",
            "\n",
            "==================================================\n",
            "Train Epoch: 23 (20)% Loss: 1.6763713359832764\n",
            "Train Epoch: 23 (40)% Loss: 1.0832339525222778\n",
            "Train Epoch: 23 (60)% Loss: 1.311777114868164\n",
            "Train Epoch: 23 (80)% Loss: 1.4377444982528687\n",
            "Train Epoch: 23 (100)% Loss: 1.5857174396514893\n",
            "\n",
            "Test set: Average Loss:1.3190, Accuracy: 50.8125%\n",
            "\n",
            "==================================================\n",
            "Train Epoch: 24 (20)% Loss: 1.200636863708496\n",
            "Train Epoch: 24 (40)% Loss: 1.2019275426864624\n",
            "Train Epoch: 24 (60)% Loss: 1.6477906703948975\n",
            "Train Epoch: 24 (80)% Loss: 1.5162112712860107\n",
            "Train Epoch: 24 (100)% Loss: 1.4523671865463257\n",
            "\n",
            "Test set: Average Loss:1.3327, Accuracy: 49.8875%\n",
            "\n",
            "==================================================\n",
            "Train Epoch: 25 (20)% Loss: 1.0982987880706787\n",
            "Train Epoch: 25 (40)% Loss: 1.3726251125335693\n",
            "Train Epoch: 25 (60)% Loss: 0.9366172552108765\n",
            "Train Epoch: 25 (80)% Loss: 1.5188872814178467\n",
            "Train Epoch: 25 (100)% Loss: 1.2531489133834839\n",
            "\n",
            "Test set: Average Loss:1.3069, Accuracy: 52.6875%\n",
            "\n",
            "==================================================\n",
            "Train Epoch: 26 (20)% Loss: 1.053176760673523\n",
            "Train Epoch: 26 (40)% Loss: 0.9033187031745911\n",
            "Train Epoch: 26 (60)% Loss: 1.189138650894165\n",
            "Train Epoch: 26 (80)% Loss: 1.6718244552612305\n",
            "Train Epoch: 26 (100)% Loss: 1.2133054733276367\n",
            "\n",
            "Test set: Average Loss:1.3279, Accuracy: 51.675%\n",
            "\n",
            "==================================================\n",
            "Train Epoch: 27 (20)% Loss: 1.4027869701385498\n",
            "Train Epoch: 27 (40)% Loss: 1.7053582668304443\n",
            "Train Epoch: 27 (60)% Loss: 1.3179079294204712\n",
            "Train Epoch: 27 (80)% Loss: 1.2825565338134766\n",
            "Train Epoch: 27 (100)% Loss: 1.105148434638977\n",
            "\n",
            "Test set: Average Loss:1.2804, Accuracy: 53.1375%\n",
            "\n",
            "==================================================\n",
            "Train Epoch: 28 (20)% Loss: 1.1421611309051514\n",
            "Train Epoch: 28 (40)% Loss: 1.4956130981445312\n",
            "Train Epoch: 28 (60)% Loss: 1.644855260848999\n",
            "Train Epoch: 28 (80)% Loss: 0.8207406997680664\n",
            "Train Epoch: 28 (100)% Loss: 0.9819316864013672\n",
            "\n",
            "Test set: Average Loss:1.3284, Accuracy: 51.3625%\n",
            "\n",
            "==================================================\n",
            "Train Epoch: 29 (20)% Loss: 1.2064831256866455\n",
            "Train Epoch: 29 (40)% Loss: 1.4352360963821411\n",
            "Train Epoch: 29 (60)% Loss: 0.8230077028274536\n",
            "Train Epoch: 29 (80)% Loss: 1.8211488723754883\n",
            "Train Epoch: 29 (100)% Loss: 0.9271252751350403\n",
            "\n",
            "Test set: Average Loss:1.2782, Accuracy: 53.1625%\n",
            "\n",
            "==================================================\n",
            "Train Epoch: 30 (20)% Loss: 0.8456677198410034\n"
          ]
        }
      ]
    },
    {
      "cell_type": "code",
      "source": [],
      "metadata": {
        "id": "QkgS2d5gbj4U"
      },
      "execution_count": null,
      "outputs": []
    }
  ]
}