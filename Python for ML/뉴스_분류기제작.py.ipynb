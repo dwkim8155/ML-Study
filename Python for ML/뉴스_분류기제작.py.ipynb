{
 "cells": [
  {
   "cell_type": "code",
   "execution_count": 1,
   "id": "75f27e69",
   "metadata": {},
   "outputs": [],
   "source": [
    "import os"
   ]
  },
  {
   "cell_type": "code",
   "execution_count": 2,
   "id": "16206cf6",
   "metadata": {},
   "outputs": [],
   "source": [
    "#경로 변경\n",
    "os.chdir(r\"C:\\ML\\Python for ML\\data\")\n",
    "\n",
    "#폴더에 있는 파일 제목 리스트 가져오기\n",
    "def get_file_list(dir_name):\n",
    "    return os.listdir(dir_name)\n",
    "\n",
    "#파일 내용 가져오기 + 카테고리 분류\n",
    "def get_contents(file_list):\n",
    "    y_class = []\n",
    "    X_text = []\n",
    "    \n",
    "    # 야구 기사 = \"0\", 축구 기사 = \"1\"로 분류 \n",
    "    class_dict = {\n",
    "        1:\"0\", 2:\"0\", 3:\"0\", 4:\"1\", 5:\"1\",6:\"1\"}\n",
    "    \n",
    "    for file_name in file_list:\n",
    "        try:\n",
    "            f = open(file_name, \"r\", encoding = \"cp949\")\n",
    "            category = int(file_name.split(os.sep)[1].split(\"_\")[0])\n",
    "            y_class.append(class_dict[category])\n",
    "            X_text.append(f.read())\n",
    "        except UnicodeDecodeError as e:\n",
    "            print(e)\n",
    "            print(file_name)\n",
    "    return X_text, y_class\n",
    "\n",
    "#의미없는 문장보호 등은 제거하기\n",
    "def get_cleaned_word(word):\n",
    "    import re\n",
    "    word = re.sub(\"\\W\",\"\",word.lower())\n",
    "    return word"
   ]
  },
  {
   "cell_type": "code",
   "execution_count": 3,
   "id": "39506271",
   "metadata": {},
   "outputs": [],
   "source": [
    "#corpus_dict만들기\n",
    "def get_corpus_dict(text):\n",
    "    text = [sentence.split() for sentence in text]\n",
    "    cleaned_words = [get_cleaned_word(word) for words in text for word in words]\n",
    "\n",
    "    from collections import OrderedDict\n",
    "    corpus_dict = OrderedDict()\n",
    "    for i,v in enumerate(set(cleaned_words)):\n",
    "        corpus_dict[v] =i\n",
    "    return corpus_dict"
   ]
  },
  {
   "cell_type": "code",
   "execution_count": 4,
   "id": "f895bc9f",
   "metadata": {},
   "outputs": [],
   "source": [
    "# 백터화\n",
    "def get_count_vector(text,corpus):\n",
    "    text = [sentence.split() for sentence in text]\n",
    "    word_number_list=[[corpus[get_cleaned_word(word)] for word in words] \n",
    "                      for words in text]\n",
    "    X_vector = [[0 for _ in range(len(corpus))] for x in range(len(text))]\n",
    "    \n",
    "    for i, text in enumerate(word_number_list):\n",
    "        for word_number in text:\n",
    "            X_vector[i][word_number] += 1\n",
    "    return X_vector\n",
    "                "
   ]
  },
  {
   "cell_type": "code",
   "execution_count": 5,
   "id": "5b92a8c7",
   "metadata": {},
   "outputs": [],
   "source": [
    "import math"
   ]
  },
  {
   "cell_type": "code",
   "execution_count": 18,
   "id": "a6f0d187",
   "metadata": {},
   "outputs": [],
   "source": [
    "#코사인 유사도 함수\n",
    "def get_cosine_similarity(v1,v2):\n",
    "    #compute cosine similarity of v1 to v2: (v1 dot v2)/{||v1||*||v2||) \n",
    "    sumxx, sumxy, sumyy = 0,0,0\n",
    "    for i in range(len(v1)):\n",
    "        x=v1[i]; y=v2[i]\n",
    "        sumxx += x*x\n",
    "        sumyy += y*y\n",
    "        sumxy += x*y\n",
    "    return sumxy/math.sqrt(sumxx*sumyy)\n",
    "\n",
    "# 코사인 유사도 평가 함수\n",
    "def get_similarity_score(X_vector, source):\n",
    "    source_vector = X_vector[source]\n",
    "    similarity_list = []\n",
    "    for target_vector in X_vector:\n",
    "        similarity_list.append(\n",
    "        get_cosine_similarity(source_vector, target_vector))\n",
    "    return similarity_list\n",
    "\n",
    "# 유사도 높은 뉴스 선별 함수\n",
    "def get_top_n_similarity_news(similarity_score,n):\n",
    "    sorted_x = sorted([(v,i) for i,v in enumerate(similarity_score)])\n",
    "    return [[i,v] for v,i in reversed(sorted_x)][1:n+1]\n",
    "\n",
    "# 정확도 측정 함수\n",
    "def get_accuracy(similarity_list, y_class, source_news):\n",
    "    source_class = y_class[source_news]\n",
    "    return sum([source_class == y_class[i[0]] for i in similarity_list]) / len(similarity_list)\n"
   ]
  },
  {
   "cell_type": "code",
   "execution_count": 21,
   "id": "27a0ceb3",
   "metadata": {},
   "outputs": [
    {
     "name": "stdout",
     "output_type": "stream",
     "text": [
      "Number of words : 2211\n",
      "0.711111111111111\n"
     ]
    }
   ],
   "source": [
    "if __name__ == \"__main__\":\n",
    "    dir_name = \"news_data\"\n",
    "    file_list = get_file_list(dir_name)\n",
    "    file_list = [os.path.join(dir_name, file_name) for file_name in file_list]\n",
    "\n",
    "    X_text, y_class = get_contents(file_list)\n",
    "    \n",
    "    corpus = get_corpus_dict(X_text)\n",
    "    print(\"Number of words : {0}\".format(len(corpus)))\n",
    "    X_vector = get_count_vector(X_text, corpus)\n",
    "    \n",
    "    result = []\n",
    "    \n",
    "    for i in range(30):\n",
    "        source_number = i\n",
    "        \n",
    "        similarity_score = get_similarity_score(X_vector, source_number)\n",
    "        similarity_news = get_top_n_similarity_news(similarity_score,3)\n",
    "        accuracy_score = get_accuracy(similarity_news, y_class, source_number)\n",
    "        result.append(accuracy_score)\n",
    "\n",
    "    print(sum(result)/ 30)\n",
    "        \n",
    "    \n",
    "    \n",
    "    "
   ]
  },
  {
   "cell_type": "code",
   "execution_count": null,
   "id": "1b236c05",
   "metadata": {},
   "outputs": [],
   "source": []
  },
  {
   "cell_type": "code",
   "execution_count": null,
   "id": "90202e22",
   "metadata": {},
   "outputs": [],
   "source": []
  }
 ],
 "metadata": {
  "kernelspec": {
   "display_name": "Python 3 (ipykernel)",
   "language": "python",
   "name": "python3"
  },
  "language_info": {
   "codemirror_mode": {
    "name": "ipython",
    "version": 3
   },
   "file_extension": ".py",
   "mimetype": "text/x-python",
   "name": "python",
   "nbconvert_exporter": "python",
   "pygments_lexer": "ipython3",
   "version": "3.9.12"
  }
 },
 "nbformat": 4,
 "nbformat_minor": 5
}
