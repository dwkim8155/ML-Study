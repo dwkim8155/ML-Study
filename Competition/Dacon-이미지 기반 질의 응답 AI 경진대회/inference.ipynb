{
 "cells": [
  {
   "cell_type": "code",
   "execution_count": 1,
   "id": "ea97b0bb-3aff-4f5a-9787-60c1c0d54e47",
   "metadata": {},
   "outputs": [
    {
     "name": "stderr",
     "output_type": "stream",
     "text": [
      "/opt/conda/lib/python3.8/site-packages/sklearn/model_selection/_split.py:700: UserWarning: The least populated class in y has only 1 members, which is less than n_splits=5.\n",
      "  warnings.warn(\n"
     ]
    }
   ],
   "source": [
    "import sys\n",
    "sys.path.append('/opt/ml/Dacon/unilm/beit3/')\n",
    "\n",
    "import os\n",
    "import pandas as pd\n",
    "\n",
    "import torch\n",
    "import torch.optim as optim\n",
    "import torch.nn as nn\n",
    "from torch.utils.data import Dataset, DataLoader\n",
    "\n",
    "import torchvision.models as models # 이미지\n",
    "from torchvision import transforms\n",
    "from PIL import Image\n",
    "\n",
    "from transformers import GPT2Tokenizer, GPT2Model # 텍스트\n",
    "\n",
    "from tqdm.auto import tqdm\n",
    "from modeling_finetune import beit3_large_patch16_224_vqav2\n",
    "from dataset import VQADataset"
   ]
  },
  {
   "cell_type": "code",
   "execution_count": 2,
   "id": "9c45cbf3-b5d3-4603-af93-cbd59552f1cc",
   "metadata": {},
   "outputs": [],
   "source": [
    "import importlib"
   ]
  },
  {
   "cell_type": "code",
   "execution_count": 4,
   "id": "856cb1f1-dedf-4c82-ade8-901f40e5be90",
   "metadata": {},
   "outputs": [],
   "source": [
    "module = importlib.import_module('dataset')"
   ]
  },
  {
   "cell_type": "code",
   "execution_count": 7,
   "id": "02f02838-311f-4e6e-a2de-68a50f44bb1d",
   "metadata": {},
   "outputs": [],
   "source": [
    "f = getattr(module, 'VQADataset')"
   ]
  },
  {
   "cell_type": "code",
   "execution_count": 11,
   "id": "ae972a88-01eb-46c1-b8f2-85ec8fab0a55",
   "metadata": {},
   "outputs": [
    {
     "ename": "TypeError",
     "evalue": "__init__() missing 4 required positional arguments: 'df', 'tokenizer', 'transform', and 'img_path'",
     "output_type": "error",
     "traceback": [
      "\u001b[0;31m---------------------------------------------------------------------------\u001b[0m",
      "\u001b[0;31mTypeError\u001b[0m                                 Traceback (most recent call last)",
      "Cell \u001b[0;32mIn[11], line 1\u001b[0m\n\u001b[0;32m----> 1\u001b[0m \u001b[43mf\u001b[49m\u001b[43m(\u001b[49m\u001b[43m)\u001b[49m\n",
      "\u001b[0;31mTypeError\u001b[0m: __init__() missing 4 required positional arguments: 'df', 'tokenizer', 'transform', and 'img_path'"
     ]
    }
   ],
   "source": [
    "f()"
   ]
  },
  {
   "cell_type": "code",
   "execution_count": 2,
   "id": "cf25dff4-960f-416a-84db-880971775882",
   "metadata": {},
   "outputs": [],
   "source": [
    "def inference(model, loader):\n",
    "    model.eval()\n",
    "    preds = []\n",
    "    with torch.no_grad():\n",
    "        for data in tqdm(loader, total=len(loader)):\n",
    "            images = data['image'].to(device)\n",
    "            question = data['question'].to(device)\n",
    "\n",
    "            outputs = model(images, question,None) # [batch, sequence, vocab]\n",
    "\n",
    "            _, pred = torch.max(outputs, dim=2) # values, indices = _, pred\n",
    "            preds.extend(pred.cpu().numpy())\n",
    "\n",
    "    return preds"
   ]
  },
  {
   "cell_type": "markdown",
   "id": "520a9c88-8062-475b-b292-7d6802f9b896",
   "metadata": {},
   "source": [
    "## Post-Processing"
   ]
  },
  {
   "cell_type": "code",
   "execution_count": 3,
   "id": "d72268a3-9a4c-47c7-9423-35dc7fd4311f",
   "metadata": {},
   "outputs": [],
   "source": [
    "# csv file\n",
    "test_df = pd.read_csv('../data/test.csv')\n",
    "test_img_path = '../data/image/test'\n",
    "sample_submission = pd.read_csv('../data/sample_submission.csv')\n",
    "\n",
    "#tozenizer\n",
    "tokenizer = GPT2Tokenizer.from_pretrained('gpt2')\n",
    "tokenizer.add_special_tokens({'pad_token': '[PAD]'})\n",
    "vocab_size = len(tokenizer)\n",
    "\n",
    "#transform\n",
    "transform = transforms.Compose([\n",
    "    transforms.Resize((224, 224)),\n",
    "    transforms.ToTensor(),\n",
    "    transforms.Normalize(mean=[0.485, 0.456, 0.406], std=[0.229, 0.224, 0.225]),\n",
    "])\n",
    "\n",
    "# Dataset & DataLoader\n",
    "test_dataset = VQADataset(test_df, tokenizer, transform, test_img_path, is_test=True)\n",
    "test_loader = DataLoader(test_dataset, num_workers=4, batch_size=16, shuffle=False)\n",
    "assert len(test_df) == len(test_dataset)"
   ]
  },
  {
   "cell_type": "code",
   "execution_count": 4,
   "id": "42581527-cae9-4863-9abc-b749d69d876d",
   "metadata": {},
   "outputs": [
    {
     "name": "stdout",
     "output_type": "stream",
     "text": [
      "loaded weights\n"
     ]
    }
   ],
   "source": [
    "#model\n",
    "device = 'cuda'\n",
    "MODEL_NAME = 'BEiT3_Fold4'\n",
    "model = beit3_large_patch16_224_vqav2(pretrained=True).cuda()\n",
    "CHK_PATH = '/opt/ml/Dacon/weight/BEiT/BEiT_best_model.pt'\n",
    "model.load_state_dict(torch.load(CHK_PATH)['model_state_dict'])\n",
    "print('loaded weights')"
   ]
  },
  {
   "cell_type": "code",
   "execution_count": null,
   "id": "bf1f2d4c-b565-4079-bae8-7fd3658788bc",
   "metadata": {},
   "outputs": [
    {
     "data": {
      "application/vnd.jupyter.widget-view+json": {
       "model_id": "a4348279ff144312aaf1d59ba9a37256",
       "version_major": 2,
       "version_minor": 0
      },
      "text/plain": [
       "  0%|          | 0/2530 [00:00<?, ?it/s]"
      ]
     },
     "metadata": {},
     "output_type": "display_data"
    }
   ],
   "source": [
    "# inference\n",
    "preds = inference(model, test_loader)\n",
    "\n",
    "no_pad_output = []\n",
    "for pred in preds:\n",
    "    output = pred[pred != 50257] # [PAD] token 제외\n",
    "    no_pad_output.append(tokenizer.decode(output).strip()) # 토큰 id -> 토큰"
   ]
  },
  {
   "cell_type": "markdown",
   "id": "d842b960-ca91-4e26-8b30-8afb2c3e9794",
   "metadata": {},
   "source": [
    "## Submission"
   ]
  },
  {
   "cell_type": "code",
   "execution_count": null,
   "id": "dc8e1681-b5ea-431c-9189-965834e468cb",
   "metadata": {},
   "outputs": [],
   "source": [
    "sample_submission['answer'] = no_pad_output\n",
    "sample_submission.to_csv(f'./submission/submission_{MODEL_NAME}.csv', index=False)"
   ]
  },
  {
   "cell_type": "code",
   "execution_count": 9,
   "id": "289fae5c-6c14-463b-bc2e-e2e3a292be45",
   "metadata": {},
   "outputs": [
    {
     "data": {
      "text/html": [
       "<div>\n",
       "<style scoped>\n",
       "    .dataframe tbody tr th:only-of-type {\n",
       "        vertical-align: middle;\n",
       "    }\n",
       "\n",
       "    .dataframe tbody tr th {\n",
       "        vertical-align: top;\n",
       "    }\n",
       "\n",
       "    .dataframe thead th {\n",
       "        text-align: right;\n",
       "    }\n",
       "</style>\n",
       "<table border=\"1\" class=\"dataframe\">\n",
       "  <thead>\n",
       "    <tr style=\"text-align: right;\">\n",
       "      <th></th>\n",
       "      <th>ID</th>\n",
       "      <th>answer</th>\n",
       "    </tr>\n",
       "  </thead>\n",
       "  <tbody>\n",
       "    <tr>\n",
       "      <th>0</th>\n",
       "      <td>TEST_00000</td>\n",
       "      <td>yes</td>\n",
       "    </tr>\n",
       "    <tr>\n",
       "      <th>1</th>\n",
       "      <td>TEST_00001</td>\n",
       "      <td>mount</td>\n",
       "    </tr>\n",
       "    <tr>\n",
       "      <th>2</th>\n",
       "      <td>TEST_00002</td>\n",
       "      <td>red</td>\n",
       "    </tr>\n",
       "    <tr>\n",
       "      <th>3</th>\n",
       "      <td>TEST_00003</td>\n",
       "      <td>brown</td>\n",
       "    </tr>\n",
       "    <tr>\n",
       "      <th>4</th>\n",
       "      <td>TEST_00004</td>\n",
       "      <td>no</td>\n",
       "    </tr>\n",
       "    <tr>\n",
       "      <th>...</th>\n",
       "      <td>...</td>\n",
       "      <td>...</td>\n",
       "    </tr>\n",
       "    <tr>\n",
       "      <th>40474</th>\n",
       "      <td>TEST_40474</td>\n",
       "      <td>phone</td>\n",
       "    </tr>\n",
       "    <tr>\n",
       "      <th>40475</th>\n",
       "      <td>TEST_40475</td>\n",
       "      <td>sm</td>\n",
       "    </tr>\n",
       "    <tr>\n",
       "      <th>40476</th>\n",
       "      <td>TEST_40476</td>\n",
       "      <td>o</td>\n",
       "    </tr>\n",
       "    <tr>\n",
       "      <th>40477</th>\n",
       "      <td>TEST_40477</td>\n",
       "      <td>white</td>\n",
       "    </tr>\n",
       "    <tr>\n",
       "      <th>40478</th>\n",
       "      <td>TEST_40478</td>\n",
       "      <td>far</td>\n",
       "    </tr>\n",
       "  </tbody>\n",
       "</table>\n",
       "<p>40479 rows × 2 columns</p>\n",
       "</div>"
      ],
      "text/plain": [
       "               ID answer\n",
       "0      TEST_00000    yes\n",
       "1      TEST_00001  mount\n",
       "2      TEST_00002    red\n",
       "3      TEST_00003  brown\n",
       "4      TEST_00004     no\n",
       "...           ...    ...\n",
       "40474  TEST_40474  phone\n",
       "40475  TEST_40475     sm\n",
       "40476  TEST_40476      o\n",
       "40477  TEST_40477  white\n",
       "40478  TEST_40478    far\n",
       "\n",
       "[40479 rows x 2 columns]"
      ]
     },
     "execution_count": 9,
     "metadata": {},
     "output_type": "execute_result"
    }
   ],
   "source": [
    "solution = pd.read_csv(f'./submission/submission_{MODEL_NAME}_epoch5.csv')\n",
    "solution"
   ]
  },
  {
   "cell_type": "code",
   "execution_count": 11,
   "id": "697e3324-345a-4b9e-8f5d-b9c4429a455e",
   "metadata": {},
   "outputs": [
    {
     "data": {
      "text/html": [
       "<div>\n",
       "<style scoped>\n",
       "    .dataframe tbody tr th:only-of-type {\n",
       "        vertical-align: middle;\n",
       "    }\n",
       "\n",
       "    .dataframe tbody tr th {\n",
       "        vertical-align: top;\n",
       "    }\n",
       "\n",
       "    .dataframe thead th {\n",
       "        text-align: right;\n",
       "    }\n",
       "</style>\n",
       "<table border=\"1\" class=\"dataframe\">\n",
       "  <thead>\n",
       "    <tr style=\"text-align: right;\">\n",
       "      <th></th>\n",
       "      <th>ID</th>\n",
       "      <th>image_id</th>\n",
       "      <th>question</th>\n",
       "    </tr>\n",
       "  </thead>\n",
       "  <tbody>\n",
       "    <tr>\n",
       "      <th>0</th>\n",
       "      <td>TEST_00000</td>\n",
       "      <td>test_00000</td>\n",
       "      <td>Is this a trade show?</td>\n",
       "    </tr>\n",
       "    <tr>\n",
       "      <th>1</th>\n",
       "      <td>TEST_00001</td>\n",
       "      <td>test_00001</td>\n",
       "      <td>Where are the people?</td>\n",
       "    </tr>\n",
       "    <tr>\n",
       "      <th>2</th>\n",
       "      <td>TEST_00002</td>\n",
       "      <td>test_00002</td>\n",
       "      <td>What color is the ski suit?</td>\n",
       "    </tr>\n",
       "    <tr>\n",
       "      <th>3</th>\n",
       "      <td>TEST_00003</td>\n",
       "      <td>test_00003</td>\n",
       "      <td>What color are the cabinets?</td>\n",
       "    </tr>\n",
       "    <tr>\n",
       "      <th>4</th>\n",
       "      <td>TEST_00004</td>\n",
       "      <td>test_00004</td>\n",
       "      <td>Is there a person standing in the background?</td>\n",
       "    </tr>\n",
       "    <tr>\n",
       "      <th>...</th>\n",
       "      <td>...</td>\n",
       "      <td>...</td>\n",
       "      <td>...</td>\n",
       "    </tr>\n",
       "    <tr>\n",
       "      <th>40474</th>\n",
       "      <td>TEST_40474</td>\n",
       "      <td>test_09502</td>\n",
       "      <td>What is the man with the camera using?</td>\n",
       "    </tr>\n",
       "    <tr>\n",
       "      <th>40475</th>\n",
       "      <td>TEST_40475</td>\n",
       "      <td>test_09782</td>\n",
       "      <td>What is graffiti on the train?</td>\n",
       "    </tr>\n",
       "    <tr>\n",
       "      <th>40476</th>\n",
       "      <td>TEST_40476</td>\n",
       "      <td>test_08648</td>\n",
       "      <td>Is this vehicle traveling through the air or t...</td>\n",
       "    </tr>\n",
       "    <tr>\n",
       "      <th>40477</th>\n",
       "      <td>TEST_40477</td>\n",
       "      <td>test_02416</td>\n",
       "      <td>What color is the blanket on the back of the e...</td>\n",
       "    </tr>\n",
       "    <tr>\n",
       "      <th>40478</th>\n",
       "      <td>TEST_40478</td>\n",
       "      <td>test_03337</td>\n",
       "      <td>Is this near or far from the shore?</td>\n",
       "    </tr>\n",
       "  </tbody>\n",
       "</table>\n",
       "<p>40479 rows × 3 columns</p>\n",
       "</div>"
      ],
      "text/plain": [
       "               ID    image_id  \\\n",
       "0      TEST_00000  test_00000   \n",
       "1      TEST_00001  test_00001   \n",
       "2      TEST_00002  test_00002   \n",
       "3      TEST_00003  test_00003   \n",
       "4      TEST_00004  test_00004   \n",
       "...           ...         ...   \n",
       "40474  TEST_40474  test_09502   \n",
       "40475  TEST_40475  test_09782   \n",
       "40476  TEST_40476  test_08648   \n",
       "40477  TEST_40477  test_02416   \n",
       "40478  TEST_40478  test_03337   \n",
       "\n",
       "                                                question  \n",
       "0                                  Is this a trade show?  \n",
       "1                                  Where are the people?  \n",
       "2                            What color is the ski suit?  \n",
       "3                           What color are the cabinets?  \n",
       "4          Is there a person standing in the background?  \n",
       "...                                                  ...  \n",
       "40474             What is the man with the camera using?  \n",
       "40475                     What is graffiti on the train?  \n",
       "40476  Is this vehicle traveling through the air or t...  \n",
       "40477  What color is the blanket on the back of the e...  \n",
       "40478                Is this near or far from the shore?  \n",
       "\n",
       "[40479 rows x 3 columns]"
      ]
     },
     "execution_count": 11,
     "metadata": {},
     "output_type": "execute_result"
    }
   ],
   "source": [
    "test_df"
   ]
  },
  {
   "cell_type": "code",
   "execution_count": null,
   "id": "493e8f68-bb7b-4185-90ab-39b7a1eee0f1",
   "metadata": {},
   "outputs": [],
   "source": []
  }
 ],
 "metadata": {
  "kernelspec": {
   "display_name": "beit",
   "language": "python",
   "name": "beit"
  },
  "language_info": {
   "codemirror_mode": {
    "name": "ipython",
    "version": 3
   },
   "file_extension": ".py",
   "mimetype": "text/x-python",
   "name": "python",
   "nbconvert_exporter": "python",
   "pygments_lexer": "ipython3",
   "version": "3.8.16"
  }
 },
 "nbformat": 4,
 "nbformat_minor": 5
}
