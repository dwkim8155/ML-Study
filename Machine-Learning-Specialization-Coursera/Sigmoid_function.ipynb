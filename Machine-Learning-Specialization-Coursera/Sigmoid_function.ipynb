{
 "cells": [
  {
   "cell_type": "markdown",
   "id": "0ac08c2b",
   "metadata": {},
   "source": [
    "### Tool"
   ]
  },
  {
   "cell_type": "code",
   "execution_count": 4,
   "id": "bb95b718",
   "metadata": {},
   "outputs": [],
   "source": [
    "import numpy as np\n",
    "import matplotlib.pyplot as plt\n",
    "%matplotlib inline\n"
   ]
  },
  {
   "cell_type": "markdown",
   "id": "149e9117",
   "metadata": {},
   "source": [
    "### Formula for Sigmoid function"
   ]
  },
  {
   "cell_type": "code",
   "execution_count": 5,
   "id": "8a4ccfa6",
   "metadata": {},
   "outputs": [],
   "source": [
    "def sigmoid(z):\n",
    "    \n",
    "    g = 1 / (1 + np.exp(-z))\n",
    "    \n",
    "    return g"
   ]
  },
  {
   "cell_type": "code",
   "execution_count": 10,
   "id": "12f35dd8",
   "metadata": {},
   "outputs": [
    {
     "name": "stdout",
     "output_type": "stream",
     "text": [
      "[[-10.0000 0.0000]\n",
      " [-9.0000 0.0001]\n",
      " [-8.0000 0.0003]\n",
      " [-7.0000 0.0009]\n",
      " [-6.0000 0.0025]\n",
      " [-5.0000 0.0067]\n",
      " [-4.0000 0.0180]\n",
      " [-3.0000 0.0474]\n",
      " [-2.0000 0.1192]\n",
      " [-1.0000 0.2689]\n",
      " [0.0000 0.5000]\n",
      " [1.0000 0.7311]\n",
      " [2.0000 0.8808]\n",
      " [3.0000 0.9526]\n",
      " [4.0000 0.9820]\n",
      " [5.0000 0.9933]\n",
      " [6.0000 0.9975]\n",
      " [7.0000 0.9991]\n",
      " [8.0000 0.9997]\n",
      " [9.0000 0.9999]\n",
      " [10.0000 1.0000]]\n"
     ]
    }
   ],
   "source": [
    "# Generate an array of evenly spaced values between -10 and 10\n",
    "z_tmp = np.arange(-10,11)\n",
    "\n",
    "# Use the function implemented above to get the sigmoid values\n",
    "y = sigmoid(z_tmp)\n",
    "\n",
    "# Code for pretty printing the two arrays next to each other\n",
    "np.set_printoptions(formatter={'float_kind' : lambda x : \"{0:0.4f}\".format(x)})\n",
    "print(np.c_[z_tmp,y])"
   ]
  },
  {
   "cell_type": "code",
   "execution_count": 12,
   "id": "b0083b03",
   "metadata": {},
   "outputs": [
    {
     "data": {
      "text/plain": [
       "Text(0.5, 0, 'z')"
      ]
     },
     "execution_count": 12,
     "metadata": {},
     "output_type": "execute_result"
    },
    {
     "data": {
      "image/png": "[encoded data removed]",
      "text/plain": [
       "<Figure size 360x216 with 1 Axes>"
      ]
     },
     "metadata": {
      "needs_background": "light"
     },
     "output_type": "display_data"
    }
   ],
   "source": [
    "# Plot sigmoid(z)\n",
    "\n",
    "fig, ax = plt.subplots(1,1,figsize=(5,3))\n",
    "ax.plot(z_tmp,y,c=\"b\")\n",
    "ax.set_title(\"Sigmoid function\")\n",
    "ax.set_ylabel(\"sigmoid(z)\")\n",
    "ax.set_xlabel(\"z\")"
   ]
  },
  {
   "cell_type": "markdown",
   "id": "c00e9b16",
   "metadata": {},
   "source": [
    "### Logistic Regression"
   ]
  },
  {
   "cell_type": "markdown",
   "id": "f037f48b",
   "metadata": {},
   "source": [
    "A logistic regression model applies the sigmoid to the familiar linear regression model as shown below:\n",
    "\n",
    "$$ f_{\\mathbf{w},b}(\\mathbf{x}^{(i)}) = g(\\mathbf{w} \\cdot \\mathbf{x}^{(i)} + b ) \\tag{2} $$ \n",
    "\n",
    "  where\n",
    "\n",
    "  $g(z) = \\frac{1}{1+e^{-z}}\\tag{3}$"
   ]
  },
  {
   "cell_type": "code",
   "execution_count": null,
   "id": "0e21c674",
   "metadata": {},
   "outputs": [],
   "source": []
  }
 ],
 "metadata": {
  "kernelspec": {
   "display_name": "Python 3 (ipykernel)",
   "language": "python",
   "name": "python3"
  },
  "language_info": {
   "codemirror_mode": {
    "name": "ipython",
    "version": 3
   },
   "file_extension": ".py",
   "mimetype": "text/x-python",
   "name": "python",
   "nbconvert_exporter": "python",
   "pygments_lexer": "ipython3",
   "version": "3.9.12"
  }
 },
 "nbformat": 4,
 "nbformat_minor": 5
}
