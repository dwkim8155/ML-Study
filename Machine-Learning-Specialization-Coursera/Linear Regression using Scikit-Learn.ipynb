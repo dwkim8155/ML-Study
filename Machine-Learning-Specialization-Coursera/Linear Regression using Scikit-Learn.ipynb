{
 "cells": [
  {
   "cell_type": "markdown",
   "id": "7f32cf87",
   "metadata": {},
   "source": [
    "### Tool"
   ]
  },
  {
   "cell_type": "code",
   "execution_count": 1,
   "id": "c00906ea",
   "metadata": {},
   "outputs": [],
   "source": [
    "import numpy as np\n",
    "import pandas as pd\n",
    "import matplotlib.pyplot as plt\n",
    "from sklearn.linear_model import SGDRegressor\n",
    "from sklearn.preprocessing import StandardScaler\n",
    "from sklearn.metrics import mean_squared_error, r2_score\n",
    "\n",
    "%matplotlib inline\n",
    "\n",
    "np.set_printoptions(precision = 2)"
   ]
  },
  {
   "cell_type": "markdown",
   "id": "d78fdb52",
   "metadata": {},
   "source": [
    "### Load the data set"
   ]
  },
  {
   "cell_type": "code",
   "execution_count": 2,
   "id": "a8f1b99e",
   "metadata": {},
   "outputs": [
    {
     "data": {
      "text/html": [
       "<div>\n",
       "<style scoped>\n",
       "    .dataframe tbody tr th:only-of-type {\n",
       "        vertical-align: middle;\n",
       "    }\n",
       "\n",
       "    .dataframe tbody tr th {\n",
       "        vertical-align: top;\n",
       "    }\n",
       "\n",
       "    .dataframe thead th {\n",
       "        text-align: right;\n",
       "    }\n",
       "</style>\n",
       "<table border=\"1\" class=\"dataframe\">\n",
       "  <thead>\n",
       "    <tr style=\"text-align: right;\">\n",
       "      <th></th>\n",
       "      <th>total_rooms</th>\n",
       "      <th>total_bedrooms</th>\n",
       "      <th>households</th>\n",
       "      <th>median_income</th>\n",
       "      <th>median_house_value</th>\n",
       "    </tr>\n",
       "  </thead>\n",
       "  <tbody>\n",
       "    <tr>\n",
       "      <th>0</th>\n",
       "      <td>880</td>\n",
       "      <td>129.0</td>\n",
       "      <td>126</td>\n",
       "      <td>8.3252</td>\n",
       "      <td>452600</td>\n",
       "    </tr>\n",
       "    <tr>\n",
       "      <th>1</th>\n",
       "      <td>7099</td>\n",
       "      <td>1106.0</td>\n",
       "      <td>1138</td>\n",
       "      <td>8.3014</td>\n",
       "      <td>358500</td>\n",
       "    </tr>\n",
       "    <tr>\n",
       "      <th>2</th>\n",
       "      <td>1467</td>\n",
       "      <td>190.0</td>\n",
       "      <td>177</td>\n",
       "      <td>7.2574</td>\n",
       "      <td>352100</td>\n",
       "    </tr>\n",
       "    <tr>\n",
       "      <th>3</th>\n",
       "      <td>1274</td>\n",
       "      <td>235.0</td>\n",
       "      <td>219</td>\n",
       "      <td>5.6431</td>\n",
       "      <td>341300</td>\n",
       "    </tr>\n",
       "    <tr>\n",
       "      <th>4</th>\n",
       "      <td>1627</td>\n",
       "      <td>280.0</td>\n",
       "      <td>259</td>\n",
       "      <td>3.8462</td>\n",
       "      <td>342200</td>\n",
       "    </tr>\n",
       "  </tbody>\n",
       "</table>\n",
       "</div>"
      ],
      "text/plain": [
       "   total_rooms  total_bedrooms  households  median_income  median_house_value\n",
       "0          880           129.0         126         8.3252              452600\n",
       "1         7099          1106.0        1138         8.3014              358500\n",
       "2         1467           190.0         177         7.2574              352100\n",
       "3         1274           235.0         219         5.6431              341300\n",
       "4         1627           280.0         259         3.8462              342200"
      ]
     },
     "execution_count": 2,
     "metadata": {},
     "output_type": "execute_result"
    }
   ],
   "source": [
    "# Excel 파일 불러오기\n",
    "\n",
    "df_train = pd.read_excel('C:/Users/dwkim/data/1553768847-housing.xlsx', sheet_name = 0)\n",
    "\n",
    "df_train.head()"
   ]
  },
  {
   "cell_type": "code",
   "execution_count": 3,
   "id": "f8f60346",
   "metadata": {},
   "outputs": [],
   "source": [
    "X_train = df_train.loc[:,'total_rooms':'median_income'].to_numpy().astype(int)\n",
    "y_train = df_train['median_house_value'].to_numpy()\n",
    "\n",
    "X_features = list(df_train.columns[:4])"
   ]
  },
  {
   "cell_type": "markdown",
   "id": "f74ca4ed",
   "metadata": {},
   "source": [
    "### Scale/normalize the training data"
   ]
  },
  {
   "cell_type": "code",
   "execution_count": 4,
   "id": "c26bb642",
   "metadata": {},
   "outputs": [
    {
     "name": "stdout",
     "output_type": "stream",
     "text": [
      "Peak to peak range by column in Raw \t X:[      39318 -2147477203        6081          15]\n",
      "Peak to peak range by column in Normalized X:[18.02 10.04 15.91  7.76]\n"
     ]
    }
   ],
   "source": [
    "Scaler = StandardScaler()\n",
    "X_norm = Scaler.fit_transform(X_train)\n",
    "print(f\"Peak to peak range by column in Raw \\t X:{np.ptp(X_train, axis=0)}\")\n",
    "print(f\"Peak to peak range by column in Normalized X:{np.ptp(X_norm, axis=0)}\")\n"
   ]
  },
  {
   "cell_type": "markdown",
   "id": "0a361912",
   "metadata": {},
   "source": [
    "### Create and fit the regression model"
   ]
  },
  {
   "cell_type": "code",
   "execution_count": 5,
   "id": "d2e96ae5",
   "metadata": {
    "scrolled": false
   },
   "outputs": [
    {
     "name": "stdout",
     "output_type": "stream",
     "text": [
      "number of iterations completed: 11, number of weight updates: 227041.0\n"
     ]
    }
   ],
   "source": [
    "sgdr = SGDRegressor(max_iter = 200000)\n",
    "sgdr.fit(X_norm,y_train)\n",
    "print(f\"number of iterations completed: {sgdr.n_iter_}, number of weight updates: {sgdr.t_}\")"
   ]
  },
  {
   "cell_type": "markdown",
   "id": "ea144b26",
   "metadata": {},
   "source": [
    "### View parameters"
   ]
  },
  {
   "cell_type": "code",
   "execution_count": 6,
   "id": "4c94cdfb",
   "metadata": {},
   "outputs": [
    {
     "name": "stdout",
     "output_type": "stream",
     "text": [
      "model parameters:\t [-47748.88     95.08  49742.93  85883.13], b:[206146.69]\n"
     ]
    }
   ],
   "source": [
    "b_norm = sgdr.intercept_\n",
    "w_norm = sgdr.coef_\n",
    "\n",
    "print(f\"model parameters:\\t {w_norm}, b:{b_norm}\")"
   ]
  },
  {
   "cell_type": "markdown",
   "id": "23c4b20f",
   "metadata": {},
   "source": [
    "### Make predictions"
   ]
  },
  {
   "cell_type": "code",
   "execution_count": 7,
   "id": "524e926e",
   "metadata": {},
   "outputs": [
    {
     "name": "stdout",
     "output_type": "stream",
     "text": [
      "prediction using np.dot() and sgdr.predict match: True\n",
      "Prediction on training set:\n",
      "[400764.68 396315.76 350102.8  270892.74]\n",
      "Target values \n",
      "[452600 358500 352100 341300]\n"
     ]
    }
   ],
   "source": [
    "# make a prediction using sgdr.predict()\n",
    "y_pred_sgd = sgdr.predict(X_norm)\n",
    "\n",
    "# make a predcition using w,b\n",
    "y_pred = np.dot(X_norm, w_norm) + b_norm\n",
    "\n",
    "print(f\"prediction using np.dot() and sgdr.predict match: {(y_pred == y_pred_sgd).all()}\")\n",
    "\n",
    "print(f\"Prediction on training set:\\n{y_pred[:4]}\" )\n",
    "print(f\"Target values \\n{y_train[:4]}\")"
   ]
  },
  {
   "cell_type": "markdown",
   "id": "7c0b4022",
   "metadata": {},
   "source": [
    "### Plot result"
   ]
  },
  {
   "cell_type": "code",
   "execution_count": 8,
   "id": "077cfdd9",
   "metadata": {},
   "outputs": [
    {
     "data": {
      "image/png": "[encoded data removed]",
      "text/plain": [
       "<Figure size 864x216 with 4 Axes>"
      ]
     },
     "metadata": {
      "needs_background": "light"
     },
     "output_type": "display_data"
    }
   ],
   "source": [
    "fig, ax = plt.subplots(1, 4, figsize = (12,3), sharey = True)\n",
    "for i in range(len(ax)):\n",
    "    ax[i].scatter(X_train[:,i],y_train, label = 'target')\n",
    "    ax[i].set_xlabel(X_features[i])\n",
    "    ax[i].scatter(X_train[:,i], y_pred, color = 'y', label = 'predict')\n",
    "\n"
   ]
  },
  {
   "cell_type": "markdown",
   "id": "391c02e8",
   "metadata": {},
   "source": [
    "### Regression 모델 성능 평가"
   ]
  },
  {
   "cell_type": "markdown",
   "id": "bd2b38ae",
   "metadata": {},
   "source": [
    "평가 방법\n",
    "* MSE(Mean Sqaured Error) : 실제값과 예측값의 차이를 제곱하여 평균한 수치\n",
    "* RMSE(Root Mean Squared Error) : MSE에 루트(제곱근)을 씌운 수치. 실제 오류 평균보다 더 커지는 특성이 있으므로 이를 방지해준다.\n",
    "* R2 Score(결정계수) : 분산 기반으로 예측 성능을 평가한다. 실제 값의 분산 대비 예측값의 분산 비율을 지표로 하며, 1에 가까울수록 예측 정확도가 높다. "
   ]
  },
  {
   "cell_type": "code",
   "execution_count": 9,
   "id": "514a9e76",
   "metadata": {},
   "outputs": [
    {
     "name": "stdout",
     "output_type": "stream",
     "text": [
      "MSE score: 6867990844.668815\n",
      "RMSE scroe : 82873.34218353218\n",
      "결정 계수 : 0.4842109348593996\n"
     ]
    }
   ],
   "source": [
    "# 성능 평가\n",
    "\n",
    "mse = mean_squared_error(y_train, y_pred)\n",
    "rmse = np.sqrt(mse)\n",
    "r2_score = r2_score(y_train, y_pred)\n",
    "\n",
    "print(f\"MSE score: {mse}\")\n",
    "print(f\"RMSE scroe : {rmse}\")\n",
    "print(f\"결정 계수 : {r2_score}\") "
   ]
  },
  {
   "cell_type": "code",
   "execution_count": null,
   "id": "5b45fe3e",
   "metadata": {},
   "outputs": [],
   "source": []
  }
 ],
 "metadata": {
  "kernelspec": {
   "display_name": "Python 3 (ipykernel)",
   "language": "python",
   "name": "python3"
  },
  "language_info": {
   "codemirror_mode": {
    "name": "ipython",
    "version": 3
   },
   "file_extension": ".py",
   "mimetype": "text/x-python",
   "name": "python",
   "nbconvert_exporter": "python",
   "pygments_lexer": "ipython3",
   "version": "3.9.12"
  }
 },
 "nbformat": 4,
 "nbformat_minor": 5
}
